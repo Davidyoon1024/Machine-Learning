{
 "cells": [
  {
   "cell_type": "markdown",
   "metadata": {},
   "source": [
    "## Regression and Logistic Model"
   ]
  },
  {
   "cell_type": "code",
   "execution_count": 20,
   "metadata": {},
   "outputs": [
    {
     "name": "stderr",
     "output_type": "stream",
     "text": [
      "C:\\Users\\david\\Anaconda3\\lib\\site-packages\\pandas\\core\\generic.py:5434: SettingWithCopyWarning: \n",
      "A value is trying to be set on a copy of a slice from a DataFrame\n",
      "\n",
      "See the caveats in the documentation: http://pandas.pydata.org/pandas-docs/stable/indexing.html#indexing-view-versus-copy\n",
      "  self._update_inplace(new_data)\n"
     ]
    },
    {
     "data": {
      "text/html": [
       "<div>\n",
       "<style scoped>\n",
       "    .dataframe tbody tr th:only-of-type {\n",
       "        vertical-align: middle;\n",
       "    }\n",
       "\n",
       "    .dataframe tbody tr th {\n",
       "        vertical-align: top;\n",
       "    }\n",
       "\n",
       "    .dataframe thead th {\n",
       "        text-align: right;\n",
       "    }\n",
       "</style>\n",
       "<table border=\"1\" class=\"dataframe\">\n",
       "  <thead>\n",
       "    <tr style=\"text-align: right;\">\n",
       "      <th></th>\n",
       "      <th>Date</th>\n",
       "      <th>SP500</th>\n",
       "      <th>MoM</th>\n",
       "      <th>CHINA1</th>\n",
       "      <th>CHINA2</th>\n",
       "      <th>CHINA3</th>\n",
       "      <th>CHINA4</th>\n",
       "      <th>CHINA5</th>\n",
       "      <th>CHINA6</th>\n",
       "      <th>CHINA7</th>\n",
       "      <th>...</th>\n",
       "      <th>USA44</th>\n",
       "      <th>USA45</th>\n",
       "      <th>USA46</th>\n",
       "      <th>USA47</th>\n",
       "      <th>USA48</th>\n",
       "      <th>USA49</th>\n",
       "      <th>USA50</th>\n",
       "      <th>USA51</th>\n",
       "      <th>CRISIS</th>\n",
       "      <th>year</th>\n",
       "    </tr>\n",
       "  </thead>\n",
       "  <tbody>\n",
       "    <tr>\n",
       "      <th>357</th>\n",
       "      <td>2000-01-31</td>\n",
       "      <td>1394.46</td>\n",
       "      <td>-0.050904</td>\n",
       "      <td>99.1</td>\n",
       "      <td>99.0</td>\n",
       "      <td>98.9</td>\n",
       "      <td>154.675</td>\n",
       "      <td>7.4</td>\n",
       "      <td>2658.390</td>\n",
       "      <td>20255000.0</td>\n",
       "      <td>...</td>\n",
       "      <td>65.3</td>\n",
       "      <td>2.3</td>\n",
       "      <td>6.3</td>\n",
       "      <td>54.0</td>\n",
       "      <td>5.8</td>\n",
       "      <td>1.0</td>\n",
       "      <td>12995.555</td>\n",
       "      <td>882.0</td>\n",
       "      <td>1</td>\n",
       "      <td>2000</td>\n",
       "    </tr>\n",
       "    <tr>\n",
       "      <th>358</th>\n",
       "      <td>2000-02-29</td>\n",
       "      <td>1366.42</td>\n",
       "      <td>-0.020108</td>\n",
       "      <td>100.2</td>\n",
       "      <td>99.8</td>\n",
       "      <td>99.3</td>\n",
       "      <td>156.100</td>\n",
       "      <td>8.9</td>\n",
       "      <td>8568.355</td>\n",
       "      <td>16782000.0</td>\n",
       "      <td>...</td>\n",
       "      <td>64.9</td>\n",
       "      <td>2.3</td>\n",
       "      <td>1.8</td>\n",
       "      <td>54.0</td>\n",
       "      <td>4.4</td>\n",
       "      <td>-1.0</td>\n",
       "      <td>12864.719</td>\n",
       "      <td>986.0</td>\n",
       "      <td>1</td>\n",
       "      <td>2000</td>\n",
       "    </tr>\n",
       "    <tr>\n",
       "      <th>359</th>\n",
       "      <td>2000-03-31</td>\n",
       "      <td>1498.58</td>\n",
       "      <td>0.096720</td>\n",
       "      <td>101.1</td>\n",
       "      <td>100.7</td>\n",
       "      <td>100.2</td>\n",
       "      <td>156.559</td>\n",
       "      <td>12.0</td>\n",
       "      <td>8568.355</td>\n",
       "      <td>14781000.0</td>\n",
       "      <td>...</td>\n",
       "      <td>61.8</td>\n",
       "      <td>2.3</td>\n",
       "      <td>1.8</td>\n",
       "      <td>54.0</td>\n",
       "      <td>4.1</td>\n",
       "      <td>0.4</td>\n",
       "      <td>12916.873</td>\n",
       "      <td>1230.0</td>\n",
       "      <td>0</td>\n",
       "      <td>2000</td>\n",
       "    </tr>\n",
       "    <tr>\n",
       "      <th>360</th>\n",
       "      <td>2000-04-30</td>\n",
       "      <td>1452.43</td>\n",
       "      <td>-0.030796</td>\n",
       "      <td>100.1</td>\n",
       "      <td>99.8</td>\n",
       "      <td>99.5</td>\n",
       "      <td>156.820</td>\n",
       "      <td>11.9</td>\n",
       "      <td>2132.990</td>\n",
       "      <td>20138000.0</td>\n",
       "      <td>...</td>\n",
       "      <td>62.8</td>\n",
       "      <td>2.3</td>\n",
       "      <td>-0.6</td>\n",
       "      <td>54.0</td>\n",
       "      <td>4.1</td>\n",
       "      <td>0.6</td>\n",
       "      <td>12990.737</td>\n",
       "      <td>1287.0</td>\n",
       "      <td>1</td>\n",
       "      <td>2000</td>\n",
       "    </tr>\n",
       "    <tr>\n",
       "      <th>361</th>\n",
       "      <td>2000-05-31</td>\n",
       "      <td>1420.60</td>\n",
       "      <td>-0.021915</td>\n",
       "      <td>100.1</td>\n",
       "      <td>99.7</td>\n",
       "      <td>99.3</td>\n",
       "      <td>156.846</td>\n",
       "      <td>11.4</td>\n",
       "      <td>8568.355</td>\n",
       "      <td>20513000.0</td>\n",
       "      <td>...</td>\n",
       "      <td>59.1</td>\n",
       "      <td>2.3</td>\n",
       "      <td>1.8</td>\n",
       "      <td>54.0</td>\n",
       "      <td>5.5</td>\n",
       "      <td>1.3</td>\n",
       "      <td>13159.712</td>\n",
       "      <td>882.0</td>\n",
       "      <td>1</td>\n",
       "      <td>2000</td>\n",
       "    </tr>\n",
       "  </tbody>\n",
       "</table>\n",
       "<p>5 rows × 102 columns</p>\n",
       "</div>"
      ],
      "text/plain": [
       "           Date    SP500       MoM  CHINA1  CHINA2  CHINA3   CHINA4  CHINA5  \\\n",
       "357  2000-01-31  1394.46 -0.050904    99.1    99.0    98.9  154.675     7.4   \n",
       "358  2000-02-29  1366.42 -0.020108   100.2    99.8    99.3  156.100     8.9   \n",
       "359  2000-03-31  1498.58  0.096720   101.1   100.7   100.2  156.559    12.0   \n",
       "360  2000-04-30  1452.43 -0.030796   100.1    99.8    99.5  156.820    11.9   \n",
       "361  2000-05-31  1420.60 -0.021915   100.1    99.7    99.3  156.846    11.4   \n",
       "\n",
       "       CHINA6      CHINA7  ...   USA44  USA45  USA46  USA47  USA48  USA49  \\\n",
       "357  2658.390  20255000.0  ...    65.3    2.3    6.3   54.0    5.8    1.0   \n",
       "358  8568.355  16782000.0  ...    64.9    2.3    1.8   54.0    4.4   -1.0   \n",
       "359  8568.355  14781000.0  ...    61.8    2.3    1.8   54.0    4.1    0.4   \n",
       "360  2132.990  20138000.0  ...    62.8    2.3   -0.6   54.0    4.1    0.6   \n",
       "361  8568.355  20513000.0  ...    59.1    2.3    1.8   54.0    5.5    1.3   \n",
       "\n",
       "         USA50   USA51  CRISIS  year  \n",
       "357  12995.555   882.0       1  2000  \n",
       "358  12864.719   986.0       1  2000  \n",
       "359  12916.873  1230.0       0  2000  \n",
       "360  12990.737  1287.0       1  2000  \n",
       "361  13159.712   882.0       1  2000  \n",
       "\n",
       "[5 rows x 102 columns]"
      ]
     },
     "execution_count": 20,
     "metadata": {},
     "output_type": "execute_result"
    }
   ],
   "source": [
    "import pandas as pd\n",
    "import numpy as np\n",
    "import missingno as missing\n",
    "# Read the data\n",
    "data = pd.read_csv('data.csv')\n",
    "Date=pd.DatetimeIndex(data['Date'])\n",
    "pd.DataFrame(data)\n",
    "data.MoM=data.MoM.astype(np.float)\n",
    "data.SP500=data.SP500.astype(np.float)\n",
    "#NAN 값 행들도 삭제하는 거 생각해보기\n",
    "data['year']=Date.year\n",
    "pre_data=data.loc[data.year<2000]\n",
    "post_data=data.loc[data.year>=2000]\n",
    "post_data.fillna(post_data.median(), inplace=True)\n",
    "#data=data.dropna(axis=0, how='any')\n",
    "post_data.head()"
   ]
  },
  {
   "cell_type": "code",
   "execution_count": null,
   "metadata": {},
   "outputs": [],
   "source": [
    "pd.set_option('precision', 3)\n",
    "pd.set_option('display.width', 400)\n",
    "print(post_data.describe())"
   ]
  },
  {
   "cell_type": "code",
   "execution_count": 2,
   "metadata": {
    "scrolled": false
   },
   "outputs": [
    {
     "data": {
      "text/plain": [
       "SP500      1.000000\n",
       "CHINA12    0.887935\n",
       "USA22      0.852796\n",
       "USA50      0.837647\n",
       "USA4       0.824336\n",
       "CHINA21    0.802827\n",
       "USA1       0.802360\n",
       "USA17      0.797147\n",
       "CHINA9     0.796991\n",
       "USA11      0.796866\n",
       "year       0.787350\n",
       "CHINA32    0.760829\n",
       "CHINA29    0.751259\n",
       "USA19      0.748321\n",
       "USA41      0.735459\n",
       "CHINA7     0.728419\n",
       "CHINA31    0.723397\n",
       "CHINA30    0.710114\n",
       "CHINA8     0.695203\n",
       "USA10      0.679548\n",
       "USA25      0.663705\n",
       "CHINA34    0.645122\n",
       "CHINA4     0.630264\n",
       "USA7       0.612269\n",
       "USA26      0.608118\n",
       "USA33      0.594837\n",
       "USA44      0.588810\n",
       "USA34      0.584714\n",
       "USA12      0.497059\n",
       "CHINA19    0.494077\n",
       "             ...   \n",
       "CHINA11   -0.045388\n",
       "CHINA39   -0.049614\n",
       "USA28     -0.055712\n",
       "CHINA3    -0.058907\n",
       "USA38     -0.060224\n",
       "USA40     -0.068217\n",
       "CHINA33   -0.080535\n",
       "USA36     -0.087909\n",
       "USA13     -0.125903\n",
       "USA46     -0.128810\n",
       "USA18     -0.128810\n",
       "CRISIS    -0.138229\n",
       "CHINA17   -0.141010\n",
       "CHINA25   -0.141396\n",
       "USA51     -0.255088\n",
       "CHINA13   -0.262596\n",
       "USA15     -0.284726\n",
       "CHINA10   -0.289931\n",
       "USA43     -0.331687\n",
       "USA24     -0.349790\n",
       "CHINA24   -0.378139\n",
       "USA27     -0.387227\n",
       "USA2      -0.426468\n",
       "CHINA23   -0.433350\n",
       "CHINA35   -0.597975\n",
       "CHINA5    -0.600720\n",
       "CHINA26   -0.608255\n",
       "CHINA16   -0.636532\n",
       "USA23     -0.710230\n",
       "CHINA15   -0.817062\n",
       "Name: SP500, Length: 101, dtype: float64"
      ]
     },
     "execution_count": 2,
     "metadata": {},
     "output_type": "execute_result"
    }
   ],
   "source": [
    "post_data.corr()['SP500'].sort_values(ascending=False)\n",
    "##data.corr()['SP500'].sort_values(ascending=False)\n",
    "#print(post_data.corr(method='pearson'))"
   ]
  },
  {
   "cell_type": "code",
   "execution_count": null,
   "metadata": {},
   "outputs": [],
   "source": [
    "import matplotlib.pyplot as plt\n",
    "from mpl_toolkits.mplot3d import Axes3D\n",
    "import seaborn as sns\n",
    "%matplotlib inline\n",
    "\n",
    "#plt.scatter(post_data.CHINA5, post_data.SP500, c='red')\n",
    "#plt.xscale('log')\n",
    "sns.regplot(post_data.USA11, post_data.SP500, color='B')\n",
    "plt.xlabel(\"[USA]Industrial Production Rate\")\n",
    "plt.ylabel(\"[USA]S&P500 INDEX\")"
   ]
  },
  {
   "cell_type": "code",
   "execution_count": null,
   "metadata": {},
   "outputs": [],
   "source": [
    "import matplotlib.pyplot as plt\n",
    "from mpl_toolkits.mplot3d import Axes3D\n",
    "%matplotlib inline\n",
    "\n",
    "# increase default figure and font sizes for easier viewing\n",
    "plt.rcParams['figure.figsize'] = (15,15)\n",
    "plt.rcParams['font.size'] = 14\n",
    "# Show histograms\n",
    "post_data.hist()"
   ]
  },
  {
   "cell_type": "code",
   "execution_count": null,
   "metadata": {},
   "outputs": [],
   "source": [
    "from sklearn.linear_model import LinearRegression, Ridge, Lasso\n",
    "from sklearn.model_selection import train_test_split\n",
    "from sklearn import metrics\n",
    "import matplotlib.pyplot as plt\n",
    "import numpy as np\n",
    "from mpl_toolkits.mplot3d import Axes3D\n",
    "from pprint import pprint\n",
    "%matplotlib inline\n",
    "\n",
    "#feature_cols=post_data.columns.values\n",
    "feature_cols=post_data.columns.values\n",
    "X=post_data[feature_cols[3:-2]]\n",
    "Y=post_data.SP500\n",
    "reg=LinearRegression()\n",
    "X_train, X_test, Y_train, Y_test = train_test_split(X,Y, test_size=0.3, random_state=123)\n",
    "reg.fit(X_train, Y_train)\n",
    "Y_train_pred=reg.predict(X_train) \n",
    "Y_test_pred=reg.predict(X_test)\n",
    "\n",
    "#Robust Test\n",
    "train_RMSE=np.sqrt(metrics.mean_squared_error(Y_train, Y_train_pred))\n",
    "test_RMSE=np.sqrt(metrics.mean_squared_error(Y_test, Y_test_pred))\n",
    "rsquared_train=reg.score(X_train, Y_train)\n",
    "rsquared_test=reg.score(X_test, Y_test)\n",
    "\n",
    "print(reg.intercept_)\n",
    "pprint(list(zip(X,reg.coef_)))\n",
    "print(train_RMSE, test_RMSE)\n",
    "print(rsquared_train, rsquared_test)"
   ]
  },
  {
   "cell_type": "markdown",
   "metadata": {},
   "source": [
    "## Normalized Data"
   ]
  },
  {
   "cell_type": "code",
   "execution_count": null,
   "metadata": {},
   "outputs": [],
   "source": [
    "from sklearn.preprocessing import MinMaxScaler\n",
    "scaler = MinMaxScaler(feature_range=(0, 1))\n",
    "rescaledX = scaler.fit_transform(X)\n",
    "print(rescaledX)"
   ]
  },
  {
   "cell_type": "code",
   "execution_count": null,
   "metadata": {
    "scrolled": true
   },
   "outputs": [],
   "source": [
    "reg2 = LinearRegression()\n",
    "reg2.fit(rescaledX, Y)\n",
    "\n",
    "print(reg2.intercept_)\n",
    "print(reg2.coef_)"
   ]
  },
  {
   "cell_type": "markdown",
   "metadata": {},
   "source": [
    "## LinearRegression by Ridge, Lasso Model"
   ]
  },
  {
   "cell_type": "code",
   "execution_count": null,
   "metadata": {},
   "outputs": [],
   "source": [
    "from sklearn.linear_model import LinearRegression, Ridge, Lasso\n",
    "from sklearn.model_selection import train_test_split\n",
    "from sklearn import metrics\n",
    "import matplotlib.pyplot as plt\n",
    "import numpy as np\n",
    "from mpl_toolkits.mplot3d import Axes3D\n",
    "from pprint import pprint\n",
    "%matplotlib inline\n",
    "\n",
    "def train_test_ridge_lasso(data, alpha_value):\n",
    "    feature_cols=post_data.columns.values\n",
    "    X=post_data[feature_cols[3:-1]]\n",
    "    Y=post_data.SP500\n",
    "    X_train, X_test, Y_train, Y_test = train_test_split(X, Y, test_size=0.3, random_state=123)\n",
    "    ridge_model=Ridge(alpha=alpha_value)\n",
    "    ridge_model.fit(X_train,Y_train)\n",
    "    \n",
    "    lasso_model=Lasso(alpha=alpha_value)\n",
    "    lasso_model.fit(X_train,Y_train)\n",
    "    \n",
    "    intercept=ridge_model.intercept_\n",
    "    intercept2=lasso_model.intercept_\n",
    "    \n",
    "    formula=pd.Series(ridge_model.coef_,index=X.columns.values)\n",
    "    formula2=pd.Series(lasso_model.coef_,index=X.columns.values)\n",
    "\n",
    "    Y_train_pred=ridge_model.predict(X_train)\n",
    "    Y_test_pred=ridge_model.predict(X_test)\n",
    "    \n",
    "    Y_train_pred2=lasso_model.predict(X_train)\n",
    "    Y_test_pred2=lasso_model.predict(X_test)\n",
    "    \n",
    "    # Robust test for Data Expectation\n",
    "    rmse_train=np.sqrt(metrics.mean_squared_error(Y_train, Y_train_pred))\n",
    "    rmse_test=np.sqrt(metrics.mean_squared_error(Y_test, Y_test_pred))\n",
    "    \n",
    "    rmse_train2=np.sqrt(metrics.mean_squared_error(Y_train, Y_train_pred2))\n",
    "    rmse_test2=np.sqrt(metrics.mean_squared_error(Y_test, Y_test_pred2))\n",
    "    \n",
    "    \n",
    "    # Degree of model Robustness\n",
    "    rsquared_train=ridge_model.score(X_train, Y_train)\n",
    "    rsquared_test=ridge_model.score(X_test, Y_test)\n",
    "    \n",
    "    rsquared_train2=lasso_model.score(X_train, Y_train)\n",
    "    rsquared_test2=lasso_model.score(X_test, Y_test)\n",
    "    \n",
    "    \n",
    "    # Make result dictionary\n",
    "    result={'formula':formula, 'intercept':intercept, 'rmse_train':rmse_train, 'rmse_test':rmse_test,\n",
    "           'rsquared_train':rsquared_train, 'rsquared_test':rsquared_test}\n",
    "    \n",
    "\n",
    "    result2={'formula':formula2, 'intercept':intercept2, 'rmse_train':rmse_train2, 'rmse_test':rmse_test2,\n",
    "           'rsquared_train':rsquared_train2, 'rsquared_test':rsquared_test2}\n",
    "    \n",
    "    \n",
    "    return result, result2"
   ]
  },
  {
   "cell_type": "code",
   "execution_count": null,
   "metadata": {},
   "outputs": [],
   "source": [
    "train_test_ridge_lasso(post_data, 4)"
   ]
  },
  {
   "cell_type": "code",
   "execution_count": null,
   "metadata": {},
   "outputs": [],
   "source": [
    "import seaborn as sns\n",
    "sns.pairplot(post_data, height=3,palette=\"husl\", x_vars=[\"USA4\",\"USA22\",\"USA11\", \"USA7\", \"CHINA12\"],y_vars=[\"SP500\"],diag_kind=\"kde\",kind=\"reg\")\n",
    "plt.show()"
   ]
  },
  {
   "cell_type": "code",
   "execution_count": null,
   "metadata": {},
   "outputs": [],
   "source": [
    "fig = plt.figure(figsize = (8,6))\n",
    "ax = fig.add_subplot(111, projection='3d')\n",
    "\n",
    "ax.scatter(data['SP500'], data['CHINA12'], data['USA22'], c='b', marker='o', alpha = 1.0)\n",
    "\n",
    "ax.set_xlabel('CHINA12')\n",
    "ax.set_ylabel('USA22')\n",
    "ax.set_zlabel('SP500')\n",
    "\n",
    "plt.show()"
   ]
  },
  {
   "cell_type": "code",
   "execution_count": 115,
   "metadata": {},
   "outputs": [
    {
     "name": "stderr",
     "output_type": "stream",
     "text": [
      "C:\\Users\\david\\Anaconda3\\lib\\site-packages\\pandas\\core\\generic.py:5434: SettingWithCopyWarning: \n",
      "A value is trying to be set on a copy of a slice from a DataFrame\n",
      "\n",
      "See the caveats in the documentation: http://pandas.pydata.org/pandas-docs/stable/indexing.html#indexing-view-versus-copy\n",
      "  self._update_inplace(new_data)\n",
      "C:\\Users\\david\\Anaconda3\\lib\\site-packages\\sklearn\\linear_model\\logistic.py:433: FutureWarning: Default solver will be changed to 'lbfgs' in 0.22. Specify a solver to silence this warning.\n",
      "  FutureWarning)\n",
      "C:\\Users\\david\\Anaconda3\\lib\\site-packages\\ipykernel_launcher.py:25: SettingWithCopyWarning: \n",
      "A value is trying to be set on a copy of a slice from a DataFrame.\n",
      "Try using .loc[row_indexer,col_indexer] = value instead\n",
      "\n",
      "See the caveats in the documentation: http://pandas.pydata.org/pandas-docs/stable/indexing.html#indexing-view-versus-copy\n",
      "C:\\Users\\david\\Anaconda3\\lib\\site-packages\\ipykernel_launcher.py:26: SettingWithCopyWarning: \n",
      "A value is trying to be set on a copy of a slice from a DataFrame.\n",
      "Try using .loc[row_indexer,col_indexer] = value instead\n",
      "\n",
      "See the caveats in the documentation: http://pandas.pydata.org/pandas-docs/stable/indexing.html#indexing-view-versus-copy\n"
     ]
    },
    {
     "data": {
      "text/plain": [
       "<matplotlib.collections.PathCollection at 0x2ba204ab860>"
      ]
     },
     "execution_count": 115,
     "metadata": {},
     "output_type": "execute_result"
    },
    {
     "data": {
      "image/png": "[encoded data removed]",
      "text/plain": [
       "<Figure size 432x288 with 1 Axes>"
      ]
     },
     "metadata": {
      "needs_background": "light"
     },
     "output_type": "display_data"
    }
   ],
   "source": [
    "#Logistic Regression\n",
    "from sklearn.model_selection import train_test_split\n",
    "import matplotlib.pyplot as plt\n",
    "from sklearn.linear_model import LogisticRegression\n",
    "\n",
    "data = pd.read_csv('data.csv')\n",
    "\n",
    "Date=pd.DatetimeIndex(data['Date'])\n",
    "pd.DataFrame(data)\n",
    "data.MoM=data.MoM.astype(np.float)\n",
    "data.SP500=data.SP500.astype(np.float)\n",
    "data['year']=Date.year\n",
    "pre_data=data.loc[data.year<2000]\n",
    "post_data=data.loc[data.year>=2000]\n",
    "post_data.fillna(post_data.median(), inplace=True)\n",
    "feature_cols=post_data.columns.values\n",
    "\n",
    "X=post_data[feature_cols[3:-2]]\n",
    "#X=post_data[['USA19','CHINA2']]\n",
    "Y=post_data.CRISIS\n",
    "X_train, X_test, Y_train, Y_test = train_test_split(X,Y, test_size=0.3, random_state=123)\n",
    "logreg=LogisticRegression()\n",
    "#logreg.fit(X_train,Y_train)\n",
    "logreg.fit(X,Y)\n",
    "post_data['CRISIS_pred']=logreg.predict(X)\n",
    "post_data['CRISIS_pred_proba']=logreg.predict_proba(X)[:,1]\n",
    "plt.scatter(post_data.USA19, post_data.CRISIS)\n",
    "plt.scatter(post_data.USA19, post_data.CRISIS_pred_proba, color='blue')"
   ]
  },
  {
   "cell_type": "code",
   "execution_count": 116,
   "metadata": {},
   "outputs": [
    {
     "name": "stdout",
     "output_type": "stream",
     "text": [
      "[('CHINA1', 2.2610179270716368e-08),\n",
      " ('CHINA2', 2.2745550841302206e-08),\n",
      " ('CHINA3', 2.3920998849616996e-08),\n",
      " ('CHINA4', 5.575736669868283e-06),\n",
      " ('CHINA5', -1.4843191170094427e-08),\n",
      " ('CHINA6', 8.64701228485843e-06),\n",
      " ('CHINA7', 5.4107017641487384e-08),\n",
      " ('CHINA8', -3.9122954258718555e-08),\n",
      " ('CHINA9', -2.6522131969718144e-05),\n",
      " ('CHINA10', -1.2058266323137011e-08),\n",
      " ('CHINA11', -6.957979858108005e-10),\n",
      " ('CHINA12', -2.2655067349530384e-05),\n",
      " ('CHINA13', 2.2888843537594075e-09),\n",
      " ('CHINA14', 2.1300862704936856e-06),\n",
      " ('CHINA15', 7.320564071288382e-09),\n",
      " ('CHINA16', 3.752544633128236e-08),\n",
      " ('CHINA17', -1.3209921156148808e-08),\n",
      " ('CHINA18', -1.7952093999971824e-08),\n",
      " ('CHINA19', 1.6797416275501302e-06),\n",
      " ('CHINA20', 5.913881504479471e-08),\n",
      " ('CHINA21', 6.59142407319995e-05),\n",
      " ('CHINA22', 2.867110417611698e-09),\n",
      " ('CHINA23', 8.494330549657397e-09),\n",
      " ('CHINA24', 1.6370014746644106e-08),\n",
      " ('CHINA25', -1.335535026490045e-08),\n",
      " ('CHINA26', -2.8526600518039027e-08),\n",
      " ('CHINA27', 5.118033939199438e-05),\n",
      " ('CHINA28', 1.8601824076804786e-06),\n",
      " ('CHINA29', -2.354778770872524e-06),\n",
      " ('CHINA30', -2.2550038585153715e-06),\n",
      " ('CHINA31', -7.463201822731041e-07),\n",
      " ('CHINA32', -4.181186131481679e-08),\n",
      " ('CHINA33', -2.755157016227134e-08),\n",
      " ('CHINA34', -1.2304065750385264e-05),\n",
      " ('CHINA35', 2.569984194531951e-09),\n",
      " ('CHINA36', 1.5784510528389654e-05),\n",
      " ('CHINA37', 6.465143793649352e-07),\n",
      " ('CHINA38', 6.464430812563108e-07),\n",
      " ('CHINA39', 6.436202690167459e-07),\n",
      " ('CHINA40', 6.466482140215436e-07),\n",
      " ('CHINA41', -2.3696248227513097e-05),\n",
      " ('CHINA42', 2.8863142329340772e-05),\n",
      " ('CHINA43', 1.4549287526625617e-05),\n",
      " ('CHINA44', -7.750652952252772e-09),\n",
      " ('CHINA45', -2.2610535519510693e-05),\n",
      " ('CHINA46', -1.543230450926195e-05),\n",
      " ('USA1', 1.3486059428563363e-05),\n",
      " ('USA2', 7.823609542238003e-09),\n",
      " ('USA3', 2.8668724874298307e-08),\n",
      " ('USA4', -6.790736216575591e-06),\n",
      " ('USA5', -9.945578490085888e-08),\n",
      " ('USA6', -2.3974409027177e-07),\n",
      " ('USA7', 1.888997990949562e-05),\n",
      " ('USA8', -2.0136503747539624e-07),\n",
      " ('USA9', 1.0279649838902899e-08),\n",
      " ('USA10', 1.776186631596112e-07),\n",
      " ('USA11', -7.475595541584396e-09),\n",
      " ('USA12', 5.994272278021158e-08),\n",
      " ('USA13', -5.889451065966651e-06),\n",
      " ('USA14', -1.7834581587978795e-08),\n",
      " ('USA15', -3.8673229553460305e-06),\n",
      " ('USA16', -1.1598715113917397e-07),\n",
      " ('USA17', -2.390907220777673e-08),\n",
      " ('USA18', 1.9154213851858367e-08),\n",
      " ('USA19', -8.993451034863469e-09),\n",
      " ('USA20', 6.741838533970975e-08),\n",
      " ('USA21', 9.688990014267596e-08),\n",
      " ('USA22', -6.660666956389684e-06),\n",
      " ('USA23', 1.3943662337674631e-09),\n",
      " ('USA24', 9.865171084129117e-06),\n",
      " ('USA25', -5.113226146015485e-07),\n",
      " ('USA26', -6.57726883542479e-07),\n",
      " ('USA27', 2.7215958610893305e-07),\n",
      " ('USA28', 4.4581280301875e-09),\n",
      " ('USA29', -8.098295313056492e-08),\n",
      " ('USA30', -2.104077090173808e-08),\n",
      " ('USA31', -4.000558537802635e-08),\n",
      " ('USA32', 5.2907112315297036e-09),\n",
      " ('USA33', 1.182363849363106e-08),\n",
      " ('USA34', -6.545885602314152e-09),\n",
      " ('USA35', 9.305970910660578e-10),\n",
      " ('USA36', 1.7909576930999208e-09),\n",
      " ('USA37', 1.465518831253951e-08),\n",
      " ('USA38', -3.125491199632332e-09),\n",
      " ('USA39', 4.442031080537783e-09),\n",
      " ('USA40', -7.772426786828623e-09),\n",
      " ('USA41', -5.647842383167328e-07),\n",
      " ('USA42', -2.045517783026589e-07),\n",
      " ('USA43', 1.0595156547855651e-08),\n",
      " ('USA44', 1.1655850011369823e-08),\n",
      " ('USA45', -1.4191520907955526e-10),\n",
      " ('USA46', 1.9154213851858367e-08),\n",
      " ('USA47', 2.0364569913582366e-08),\n",
      " ('USA48', -5.173701756436535e-09),\n",
      " ('USA49', -6.850216598458432e-09),\n",
      " ('USA50', -6.631087235460366e-06),\n",
      " ('USA51', -3.0744727978746384e-06)]\n",
      "0.5652173913043478\n"
     ]
    },
    {
     "name": "stderr",
     "output_type": "stream",
     "text": [
      "C:\\Users\\david\\Anaconda3\\lib\\site-packages\\sklearn\\linear_model\\logistic.py:433: FutureWarning: Default solver will be changed to 'lbfgs' in 0.22. Specify a solver to silence this warning.\n",
      "  FutureWarning)\n",
      "C:\\Users\\david\\Anaconda3\\lib\\site-packages\\ipykernel_launcher.py:2: SettingWithCopyWarning: \n",
      "A value is trying to be set on a copy of a slice from a DataFrame.\n",
      "Try using .loc[row_indexer,col_indexer] = value instead\n",
      "\n",
      "See the caveats in the documentation: http://pandas.pydata.org/pandas-docs/stable/indexing.html#indexing-view-versus-copy\n",
      "  \n",
      "C:\\Users\\david\\Anaconda3\\lib\\site-packages\\ipykernel_launcher.py:3: SettingWithCopyWarning: \n",
      "A value is trying to be set on a copy of a slice from a DataFrame.\n",
      "Try using .loc[row_indexer,col_indexer] = value instead\n",
      "\n",
      "See the caveats in the documentation: http://pandas.pydata.org/pandas-docs/stable/indexing.html#indexing-view-versus-copy\n",
      "  This is separate from the ipykernel package so we can avoid doing imports until\n"
     ]
    }
   ],
   "source": [
    "logreg.fit(X_train, Y_train)\n",
    "post_data['crisis_pred']=logreg.predict(X)\n",
    "post_data['crisis_pred_prob']=logreg.predict_proba(X)[:,1]\n",
    "from pprint import pprint\n",
    "from sklearn import metrics\n",
    "Y_pred_prob=logreg.predict_proba(X_test)[:,1]\n",
    "Y_pred=logreg.predict(X_test)\n",
    "pprint(list(zip(X, logreg.coef_[0])))\n",
    "print(metrics.accuracy_score(Y_test, Y_pred))\n",
    "#print(metrics.accuracy_score(y_pred_prob, y_test))"
   ]
  },
  {
   "cell_type": "code",
   "execution_count": 117,
   "metadata": {},
   "outputs": [
    {
     "name": "stdout",
     "output_type": "stream",
     "text": [
      "[[32 14]\n",
      " [16  7]]\n",
      "              precision    recall  f1-score   support\n",
      "\n",
      "           0       0.67      0.70      0.68        46\n",
      "           1       0.33      0.30      0.32        23\n",
      "\n",
      "   micro avg       0.57      0.57      0.57        69\n",
      "   macro avg       0.50      0.50      0.50        69\n",
      "weighted avg       0.56      0.57      0.56        69\n",
      "\n"
     ]
    }
   ],
   "source": [
    "print(metrics.confusion_matrix(Y_test,Y_pred))\n",
    "print(metrics.classification_report(Y_test,Y_pred))"
   ]
  },
  {
   "cell_type": "code",
   "execution_count": 126,
   "metadata": {},
   "outputs": [
    {
     "data": {
      "text/plain": [
       "(array([ 2.,  2.,  4., 11., 14.,  8., 11., 11.,  4.,  2.]),\n",
       " array([0.01123495, 0.0851839 , 0.15913285, 0.2330818 , 0.30703075,\n",
       "        0.3809797 , 0.45492865, 0.52887761, 0.60282656, 0.67677551,\n",
       "        0.75072446]),\n",
       " <a list of 10 Patch objects>)"
      ]
     },
     "execution_count": 126,
     "metadata": {},
     "output_type": "execute_result"
    },
    {
     "data": {
      "image/png": "[encoded data removed]",
      "text/plain": [
       "<Figure size 432x288 with 1 Axes>"
      ]
     },
     "metadata": {
      "needs_background": "light"
     },
     "output_type": "display_data"
    }
   ],
   "source": [
    "Y_pred_new=np.where(Y_pred_prob>0.6, 1, 0)\n",
    "%matplotlib inline\n",
    "plt.hist(Y_pred_prob)"
   ]
  },
  {
   "cell_type": "code",
   "execution_count": 127,
   "metadata": {},
   "outputs": [
    {
     "name": "stdout",
     "output_type": "stream",
     "text": [
      "[[41 22]\n",
      " [ 5  1]]\n"
     ]
    }
   ],
   "source": [
    "print(metrics.confusion_matrix(Y_pred_new,Y_test))"
   ]
  },
  {
   "cell_type": "code",
   "execution_count": null,
   "metadata": {},
   "outputs": [],
   "source": [
    "from sklearn.metrics import roc_curve, auc"
   ]
  },
  {
   "cell_type": "code",
   "execution_count": null,
   "metadata": {},
   "outputs": [],
   "source": [
    "clf=LogisticRegression(C=1)\n",
    "Y_prob=clf.fit(X_train, Y_train).predict_proba(X_test)\n",
    "Y_score=clf.fit(X_train, Y_train).decision_function(X_test)"
   ]
  },
  {
   "cell_type": "code",
   "execution_count": null,
   "metadata": {},
   "outputs": [],
   "source": [
    "fpr, tpr, _ = roc_curve(Y_test, Y_score)\n",
    "roc_auc=auc(fpr, tpr)\n",
    "print(roc_auc)"
   ]
  },
  {
   "cell_type": "code",
   "execution_count": null,
   "metadata": {},
   "outputs": [],
   "source": [
    "plt.figure()\n",
    "plt.plot(fpr, tpr, label = 'ROC curve')\n",
    "plt.plot([0,1], [0,1], 'k--')\n",
    "plt.xlim([0.0, 1.0])\n",
    "plt.ylim([0.0, 1.05])\n",
    "plt.xlabel('False Positive Rate')\n",
    "plt.ylabel('True Positive Rate')\n",
    "plt.title('Receiver operating characteristic')\n",
    "plt.legend(loc=\"lower right\")\n",
    "plt.show()"
   ]
  },
  {
   "cell_type": "markdown",
   "metadata": {},
   "source": [
    "\n",
    "## Decision Tree Model and Random Forest\n",
    "WebGraphviz.com"
   ]
  },
  {
   "cell_type": "code",
   "execution_count": 109,
   "metadata": {
    "scrolled": true
   },
   "outputs": [
    {
     "name": "stderr",
     "output_type": "stream",
     "text": [
      "C:\\Users\\infomax\\davidyoon\\lib\\site-packages\\pandas\\core\\generic.py:5434: SettingWithCopyWarning: \n",
      "A value is trying to be set on a copy of a slice from a DataFrame\n",
      "\n",
      "See the caveats in the documentation: http://pandas.pydata.org/pandas-docs/stable/indexing.html#indexing-view-versus-copy\n",
      "  self._update_inplace(new_data)\n"
     ]
    }
   ],
   "source": [
    "import pandas as pd\n",
    "import numpy as np\n",
    "import seaborn as sns\n",
    "import missingno\n",
    "from sklearn.tree import DecisionTreeClassifier\n",
    "from sklearn.ensemble import RandomForestClassifier\n",
    "from sklearn import metrics\n",
    "from sklearn.model_selection import train_test_split\n",
    "import matplotlib.pyplot as plt\n",
    "%matplotlib inline\n",
    "from pprint import pprint\n",
    "from sklearn.metrics import confusion_matrix\n",
    "from sklearn.feature_selection import SelectFromModel\n",
    "# Read the data\n",
    "data = pd.read_csv('data.csv')\n",
    "\n",
    "Date=pd.DatetimeIndex(data['Date'])\n",
    "pd.DataFrame(data)\n",
    "data.MoM=data.MoM.astype(np.float)\n",
    "data.SP500=data.SP500.astype(np.float)\n",
    "\n",
    "data['year']=Date.year\n",
    "pre_data=data.loc[data.year<2000]\n",
    "post_data=data.loc[data.year>=2000]\n",
    "post_data.fillna(post_data.median(), inplace=True)"
   ]
  },
  {
   "cell_type": "code",
   "execution_count": 110,
   "metadata": {
    "scrolled": true
   },
   "outputs": [],
   "source": [
    "feature_cols=post_data.columns.values\n",
    "X_grid_selector=['USA13','USA29','CHINA29','USA20','USA39','CHINA2','CHINA9','USA28','USA3']\n",
    "X=post_data[X_grid_selector]\n",
    "#X=post_data[feature_cols[3:-2]]\n",
    "#X=X_selector\n",
    "Y=post_data.CRISIS\n",
    "#X=X.drop(['UNRPE','UTR'],axis=1)\n",
    "\n",
    "X_train, X_test, Y_train, Y_test = train_test_split(X,Y, test_size=0.2, random_state=123)\n",
    "X_train, X_val, Y_train, Y_val = train_test_split(X_train, Y_train, test_size=0.375, random_state=123)\n",
    "\n",
    "## Decision Tree Model\n",
    "\n",
    "depth_set=[1,2,3,4,5,6,7,8,9,10]\n",
    "train_accuracy_set=[]\n",
    "accuracy_set=[]\n",
    "cm_set=[]\n",
    "dt_models=[]\n",
    "\n",
    "\n",
    "for depth in depth_set:\n",
    "    \n",
    "    dt=DecisionTreeClassifier(max_depth=depth,random_state=123)\n",
    "    dt.fit(X_train,Y_train)\n",
    "    y_train_hat=dt.predict(X_train)\n",
    "    y_val_hat=dt.predict(X_val)\n",
    "    y_test_hat=dt.predict(X_test)\n",
    "    \n",
    "    train_accuracy=metrics.accuracy_score(Y_train, y_train_hat)\n",
    "    accuracy=metrics.accuracy_score(y_val_hat,Y_val)\n",
    "    cm=metrics.confusion_matrix(y_val_hat, Y_val)\n",
    "    \n",
    "    train_accuracy_set.append(train_accuracy)\n",
    "    accuracy_set.append(accuracy)\n",
    "    cm_set.append(cm)\n",
    "    dt_models.append(dt)\n",
    "    \n",
    "\n",
    "## Random Forest Model\n",
    "\n",
    "n_estimators_set=[1,2,3,4,10]\n",
    "max_depth_set=[5,7,9,11]\n",
    "max_features_set=['auto','log2']\n",
    "\n",
    "rf_models=[]\n",
    "rf_models_test=[]\n",
    "rf_accuracy_set=[]\n",
    "rf_accuracy_set_test=[]\n",
    "rf_cm_set=[]\n",
    "rf_cm_set_test=[]\n",
    "\n",
    "for n_estimators in n_estimators_set:\n",
    "    for max_depth in max_depth_set:\n",
    "        for max_features in max_features_set:\n",
    "            \n",
    "            rf=RandomForestClassifier(n_estimators=n_estimators, max_depth=max_depth, max_features=max_features)\n",
    "            rf.fit(X_train, Y_train)\n",
    "            y_train_hat=rf.predict(X_train)\n",
    "            y_test_hat=rf.predict(X_test)\n",
    "            rf_accuracy=metrics.accuracy_score(Y_train, y_train_hat)\n",
    "            rf_accuracy_test=metrics.accuracy_score(Y_test, y_test_hat)\n",
    "            rf_cm=metrics.confusion_matrix(Y_train, y_train_hat)\n",
    "            rf_cm_test=metrics.confusion_matrix(Y_test, y_test_hat)\n",
    "            \n",
    "            rf_models.append(rf)\n",
    "            rf_accuracy_set.append(rf_accuracy)\n",
    "            rf_accuracy_set_test.append(rf_accuracy_test)\n",
    "            rf_cm_set.append(rf_cm)\n",
    "            rf_cm_set_test.append(rf_cm_test)"
   ]
  },
  {
   "cell_type": "code",
   "execution_count": 114,
   "metadata": {},
   "outputs": [
    {
     "name": "stdout",
     "output_type": "stream",
     "text": [
      "[0.5507246376811594,\n",
      " 0.5362318840579711,\n",
      " 0.5652173913043478,\n",
      " 0.5652173913043478,\n",
      " 0.5507246376811594,\n",
      " 0.5362318840579711,\n",
      " 0.5797101449275363,\n",
      " 0.5797101449275363,\n",
      " 0.5942028985507246,\n",
      " 0.5797101449275363]\n",
      "====================================\n",
      "0.5942028985507246\n",
      "8\n",
      "==========Randomforestresults=======\n",
      "[0.6991150442477876,\n",
      " 0.6991150442477876,\n",
      " 0.7787610619469026,\n",
      " 0.8230088495575221,\n",
      " 0.8141592920353983,\n",
      " 0.8053097345132744,\n",
      " 0.8053097345132744,\n",
      " 0.672566371681416,\n",
      " 0.8141592920353983,\n",
      " 0.7079646017699115,\n",
      " 0.8053097345132744,\n",
      " 0.8053097345132744,\n",
      " 0.8053097345132744,\n",
      " 0.8584070796460177,\n",
      " 0.7964601769911505,\n",
      " 0.7964601769911505,\n",
      " 0.831858407079646,\n",
      " 0.831858407079646,\n",
      " 0.8495575221238938,\n",
      " 0.8584070796460177,\n",
      " 0.8849557522123894,\n",
      " 0.831858407079646,\n",
      " 0.9292035398230089,\n",
      " 0.9469026548672567,\n",
      " 0.831858407079646,\n",
      " 0.7964601769911505,\n",
      " 0.8495575221238938,\n",
      " 0.8407079646017699,\n",
      " 0.9026548672566371,\n",
      " 0.9292035398230089,\n",
      " 0.9292035398230089,\n",
      " 0.8938053097345132,\n",
      " 0.8495575221238938,\n",
      " 0.831858407079646,\n",
      " 0.8849557522123894,\n",
      " 0.9292035398230089,\n",
      " 0.9380530973451328,\n",
      " 0.9557522123893806,\n",
      " 0.9823008849557522,\n",
      " 0.9469026548672567]\n",
      "============================================================\n",
      "0.9823008849557522 38\n",
      "0.782608695652174 9\n"
     ]
    },
    {
     "data": {
      "text/plain": [
       "RandomForestClassifier(bootstrap=True, class_weight=None, criterion='gini',\n",
       "            max_depth=11, max_features='log2', max_leaf_nodes=None,\n",
       "            min_impurity_decrease=0.0, min_impurity_split=None,\n",
       "            min_samples_leaf=1, min_samples_split=2,\n",
       "            min_weight_fraction_leaf=0.0, n_estimators=10, n_jobs=None,\n",
       "            oob_score=False, random_state=None, verbose=0,\n",
       "            warm_start=False)"
      ]
     },
     "execution_count": 114,
     "metadata": {},
     "output_type": "execute_result"
    }
   ],
   "source": [
    "#Decision Tree results\n",
    "max_value=max(accuracy_set)\n",
    "max_index=accuracy_set.index(max_value)\n",
    "pprint(accuracy_set)\n",
    "print(\"====================================\")\n",
    "pprint(max_value)\n",
    "pprint(max_index)\n",
    "print(\"==========Randomforestresults=======\")\n",
    "pprint(rf_accuracy_set)\n",
    "print(\"=\"*60)\n",
    "rf_max_value=max(rf_accuracy_set)\n",
    "rf_max_index=rf_accuracy_set.index(rf_max_value)\n",
    "rf_max_value_test=max(rf_accuracy_set_test)\n",
    "rf_max_index_test=rf_accuracy_set_test.index(rf_max_value_test)\n",
    "print(rf_max_value, rf_max_index)\n",
    "print(rf_max_value_test, rf_max_index_test)\n",
    "rf.best\n"
   ]
  },
  {
   "cell_type": "code",
   "execution_count": 112,
   "metadata": {},
   "outputs": [
    {
     "name": "stdout",
     "output_type": "stream",
     "text": [
      "              precision    recall  f1-score   support\n",
      "\n",
      "           0       0.94      0.97      0.95        65\n",
      "           1       0.96      0.92      0.94        48\n",
      "\n",
      "   micro avg       0.95      0.95      0.95       113\n",
      "   macro avg       0.95      0.94      0.95       113\n",
      "weighted avg       0.95      0.95      0.95       113\n",
      "\n",
      "[[63  2]\n",
      " [ 4 44]]\n",
      "========================================================================================================================================================================================================\n",
      "              precision    recall  f1-score   support\n",
      "\n",
      "           0       0.78      0.81      0.79        36\n",
      "           1       0.22      0.20      0.21        10\n",
      "\n",
      "   micro avg       0.67      0.67      0.67        46\n",
      "   macro avg       0.50      0.50      0.50        46\n",
      "weighted avg       0.66      0.67      0.67        46\n",
      "\n",
      "[[29  7]\n",
      " [ 8  2]]\n"
     ]
    }
   ],
   "source": [
    "print(metrics.classification_report(Y_train, y_train_hat))\n",
    "print(metrics.confusion_matrix(Y_train,y_train_hat))\n",
    "print(\"=\"*200)\n",
    "print(metrics.classification_report(Y_test, y_test_hat))\n",
    "print(metrics.confusion_matrix(Y_test,y_test_hat))"
   ]
  },
  {
   "cell_type": "code",
   "execution_count": 113,
   "metadata": {},
   "outputs": [
    {
     "name": "stdout",
     "output_type": "stream",
     "text": [
      "총 테스트 개수:113, 총 오류 개수:6\n"
     ]
    }
   ],
   "source": [
    "#grah\n",
    "print('총 테스트 개수:%d, 총 오류 개수:%d' %(len(Y_train), ((Y_train !=y_train_hat).sum())))"
   ]
  },
  {
   "cell_type": "code",
   "execution_count": null,
   "metadata": {},
   "outputs": [],
   "source": [
    "##featrue_engineering -RF importances\n",
    "pprint(list(zip(X,rf.feature_importances_)))\n",
    "selector=SelectFromModel(estimator=rf,threshold=0.03,prefit=True)\n",
    "X_selector=selector.transform(X)\n",
    "print(X.shape)`\n",
    "print(X_selector.shape)\n",
    "print(\"=\"*100)\n",
    "print(X_selector)"
   ]
  },
  {
   "cell_type": "code",
   "execution_count": null,
   "metadata": {},
   "outputs": [
    {
     "name": "stdout",
     "output_type": "stream",
     "text": [
      "Fitting estimator with 97 features.\n"
     ]
    }
   ],
   "source": [
    "#Recursive feature elimination(RFE)\n",
    "\n",
    "from sklearn.feature_selection import RFECV\n",
    "from sklearn.svm import SVC\n",
    "from sklearn.model_selection import StratifiedKFold\n",
    "\n",
    "svc=SVC(kernel='linear')\n",
    "rfecv=RFECV(estimator=svc, step=1, cv=StratifiedKFold(n_splits=2), scoring='accuracy', verbose=1)\n",
    "rfecv.fit(X,Y)"
   ]
  },
  {
   "cell_type": "code",
   "execution_count": null,
   "metadata": {},
   "outputs": [],
   "source": [
    "selected=[\"UPPI\",\"CHINA1\",\"CHINA7\",\"CHINA18\",\"CHINA21\",\"CHINA25\",\"CHINA27\",\"CHINA32\",\"CHINA39\"]\n",
    "pd.DataFrame(X_selector, columns=selected).head()"
   ]
  },
  {
   "cell_type": "code",
   "execution_count": null,
   "metadata": {},
   "outputs": [],
   "source": [
    "\n",
    "#X=X_selector\n",
    "\n",
    "X_train, X_test, Y_train, Y_test = train_test_split(X,Y, test_size=0.2, random_state=123)\n",
    "X_train, X_val, Y_train, Y_val = train_test_split(X_train, Y_train, test_size=0.375, random_state=123)\n",
    "\n",
    "for n_estimators in n_estimators_set:\n",
    "    for max_depth in max_depth_set:\n",
    "        for max_features in max_features_set:\n",
    "            \n",
    "            rf=RandomForestClassifier(n_estimators=n_estimators, max_depth=max_depth, max_features=max_features)\n",
    "            rf.fit(X_train, Y_train)\n",
    "            y_train_hat=rf.predict(X_train)\n",
    "            \n",
    "            rf_accuracy=metrics.accuracy_score(Y_train, y_train_hat)\n",
    "            rf_cm=metrics.confusion_matrix(Y_train, y_train_hat)\n",
    "            \n",
    "            rf_models.append(rf)\n",
    "            rf_accuracy_set.append(rf_accuracy)\n",
    "            rf_cm_set.append(rf_cm)"
   ]
  },
  {
   "cell_type": "code",
   "execution_count": null,
   "metadata": {},
   "outputs": [],
   "source": [
    "max_value=max(rf_accuracy_set)\n",
    "max_index=rf_accuracy_set.index(max_value)\n",
    "print(max_value)\n",
    "print(max_index)"
   ]
  },
  {
   "cell_type": "code",
   "execution_count": null,
   "metadata": {},
   "outputs": [],
   "source": [
    "missingno.matrix(post_data)\n",
    "#pd.where(pd.isnull(post_data))"
   ]
  },
  {
   "cell_type": "code",
   "execution_count": null,
   "metadata": {},
   "outputs": [],
   "source": [
    "colormap = plt.cm.viridis\n",
    "plt.figure(figsize=(12,12))\n",
    "#y는 title 과 네모난 표의 크기를 말한다.\n",
    "plt.title('Pearson Correlation of Features', y=1.05, size=15)\n",
    "sns.heatmap(post_data.iloc[:,3:-1].astype(float).corr(),linewidths=0.1,vmax=1.0, square=True, cmap=colormap, linecolor='white', annot=True)"
   ]
  },
  {
   "cell_type": "markdown",
   "metadata": {},
   "source": [
    "## Neural_Network_Model, GridSearchCV"
   ]
  },
  {
   "cell_type": "code",
   "execution_count": 16,
   "metadata": {},
   "outputs": [
    {
     "name": "stderr",
     "output_type": "stream",
     "text": [
      "C:\\Users\\david\\Anaconda3\\lib\\site-packages\\pandas\\core\\generic.py:5434: SettingWithCopyWarning: \n",
      "A value is trying to be set on a copy of a slice from a DataFrame\n",
      "\n",
      "See the caveats in the documentation: http://pandas.pydata.org/pandas-docs/stable/indexing.html#indexing-view-versus-copy\n",
      "  self._update_inplace(new_data)\n"
     ]
    },
    {
     "data": {
      "text/html": [
       "<div>\n",
       "<style scoped>\n",
       "    .dataframe tbody tr th:only-of-type {\n",
       "        vertical-align: middle;\n",
       "    }\n",
       "\n",
       "    .dataframe tbody tr th {\n",
       "        vertical-align: top;\n",
       "    }\n",
       "\n",
       "    .dataframe thead th {\n",
       "        text-align: right;\n",
       "    }\n",
       "</style>\n",
       "<table border=\"1\" class=\"dataframe\">\n",
       "  <thead>\n",
       "    <tr style=\"text-align: right;\">\n",
       "      <th></th>\n",
       "      <th>Date</th>\n",
       "      <th>SP500</th>\n",
       "      <th>MoM</th>\n",
       "      <th>CHINA1</th>\n",
       "      <th>CHINA2</th>\n",
       "      <th>CHINA3</th>\n",
       "      <th>CHINA4</th>\n",
       "      <th>CHINA5</th>\n",
       "      <th>CHINA6</th>\n",
       "      <th>CHINA7</th>\n",
       "      <th>...</th>\n",
       "      <th>USA44</th>\n",
       "      <th>USA45</th>\n",
       "      <th>USA46</th>\n",
       "      <th>USA47</th>\n",
       "      <th>USA48</th>\n",
       "      <th>USA49</th>\n",
       "      <th>USA50</th>\n",
       "      <th>USA51</th>\n",
       "      <th>CRISIS</th>\n",
       "      <th>year</th>\n",
       "    </tr>\n",
       "  </thead>\n",
       "  <tbody>\n",
       "    <tr>\n",
       "      <th>580</th>\n",
       "      <td>2018-08-31</td>\n",
       "      <td>2901.52</td>\n",
       "      <td>0.030263</td>\n",
       "      <td>102.1</td>\n",
       "      <td>102.1</td>\n",
       "      <td>102.0</td>\n",
       "      <td>3117.946</td>\n",
       "      <td>6.0</td>\n",
       "      <td>8568.355</td>\n",
       "      <td>215565383.8</td>\n",
       "      <td>...</td>\n",
       "      <td>61.8</td>\n",
       "      <td>2.8</td>\n",
       "      <td>1.8</td>\n",
       "      <td>55.3</td>\n",
       "      <td>3.2</td>\n",
       "      <td>0.6</td>\n",
       "      <td>18657.352</td>\n",
       "      <td>768.0</td>\n",
       "      <td>0</td>\n",
       "      <td>2018</td>\n",
       "    </tr>\n",
       "    <tr>\n",
       "      <th>581</th>\n",
       "      <td>2018-09-30</td>\n",
       "      <td>2913.98</td>\n",
       "      <td>0.004294</td>\n",
       "      <td>102.3</td>\n",
       "      <td>102.3</td>\n",
       "      <td>102.3</td>\n",
       "      <td>3109.716</td>\n",
       "      <td>6.1</td>\n",
       "      <td>8568.355</td>\n",
       "      <td>217372208.0</td>\n",
       "      <td>...</td>\n",
       "      <td>66.1</td>\n",
       "      <td>3.2</td>\n",
       "      <td>1.8</td>\n",
       "      <td>54.7</td>\n",
       "      <td>2.9</td>\n",
       "      <td>0.0</td>\n",
       "      <td>18652.553</td>\n",
       "      <td>786.0</td>\n",
       "      <td>0</td>\n",
       "      <td>2018</td>\n",
       "    </tr>\n",
       "    <tr>\n",
       "      <th>582</th>\n",
       "      <td>2018-10-31</td>\n",
       "      <td>2711.74</td>\n",
       "      <td>-0.069403</td>\n",
       "      <td>102.4</td>\n",
       "      <td>102.5</td>\n",
       "      <td>102.5</td>\n",
       "      <td>3087.025</td>\n",
       "      <td>5.8</td>\n",
       "      <td>22949.550</td>\n",
       "      <td>226686815.1</td>\n",
       "      <td>...</td>\n",
       "      <td>61.8</td>\n",
       "      <td>3.0</td>\n",
       "      <td>1.8</td>\n",
       "      <td>55.6</td>\n",
       "      <td>2.9</td>\n",
       "      <td>0.2</td>\n",
       "      <td>18685.088</td>\n",
       "      <td>882.0</td>\n",
       "      <td>1</td>\n",
       "      <td>2018</td>\n",
       "    </tr>\n",
       "    <tr>\n",
       "      <th>583</th>\n",
       "      <td>2018-11-30</td>\n",
       "      <td>2760.17</td>\n",
       "      <td>0.017859</td>\n",
       "      <td>102.5</td>\n",
       "      <td>102.5</td>\n",
       "      <td>102.6</td>\n",
       "      <td>3053.098</td>\n",
       "      <td>5.9</td>\n",
       "      <td>8568.355</td>\n",
       "      <td>217283434.6</td>\n",
       "      <td>...</td>\n",
       "      <td>67.4</td>\n",
       "      <td>3.3</td>\n",
       "      <td>1.8</td>\n",
       "      <td>55.7</td>\n",
       "      <td>3.4</td>\n",
       "      <td>0.4</td>\n",
       "      <td>18764.293</td>\n",
       "      <td>1157.0</td>\n",
       "      <td>0</td>\n",
       "      <td>2018</td>\n",
       "    </tr>\n",
       "    <tr>\n",
       "      <th>584</th>\n",
       "      <td>2018-12-31</td>\n",
       "      <td>2506.85</td>\n",
       "      <td>-0.091777</td>\n",
       "      <td>102.2</td>\n",
       "      <td>102.2</td>\n",
       "      <td>102.2</td>\n",
       "      <td>3061.697</td>\n",
       "      <td>5.4</td>\n",
       "      <td>8568.355</td>\n",
       "      <td>227445522.7</td>\n",
       "      <td>...</td>\n",
       "      <td>61.6</td>\n",
       "      <td>3.3</td>\n",
       "      <td>1.8</td>\n",
       "      <td>55.3</td>\n",
       "      <td>2.6</td>\n",
       "      <td>-0.2</td>\n",
       "      <td>18727.566</td>\n",
       "      <td>1132.0</td>\n",
       "      <td>1</td>\n",
       "      <td>2018</td>\n",
       "    </tr>\n",
       "  </tbody>\n",
       "</table>\n",
       "<p>5 rows × 102 columns</p>\n",
       "</div>"
      ],
      "text/plain": [
       "           Date    SP500       MoM  CHINA1  CHINA2  CHINA3    CHINA4  CHINA5  \\\n",
       "580  2018-08-31  2901.52  0.030263   102.1   102.1   102.0  3117.946     6.0   \n",
       "581  2018-09-30  2913.98  0.004294   102.3   102.3   102.3  3109.716     6.1   \n",
       "582  2018-10-31  2711.74 -0.069403   102.4   102.5   102.5  3087.025     5.8   \n",
       "583  2018-11-30  2760.17  0.017859   102.5   102.5   102.6  3053.098     5.9   \n",
       "584  2018-12-31  2506.85 -0.091777   102.2   102.2   102.2  3061.697     5.4   \n",
       "\n",
       "        CHINA6       CHINA7  ...   USA44  USA45  USA46  USA47  USA48  USA49  \\\n",
       "580   8568.355  215565383.8  ...    61.8    2.8    1.8   55.3    3.2    0.6   \n",
       "581   8568.355  217372208.0  ...    66.1    3.2    1.8   54.7    2.9    0.0   \n",
       "582  22949.550  226686815.1  ...    61.8    3.0    1.8   55.6    2.9    0.2   \n",
       "583   8568.355  217283434.6  ...    67.4    3.3    1.8   55.7    3.4    0.4   \n",
       "584   8568.355  227445522.7  ...    61.6    3.3    1.8   55.3    2.6   -0.2   \n",
       "\n",
       "         USA50   USA51  CRISIS  year  \n",
       "580  18657.352   768.0       0  2018  \n",
       "581  18652.553   786.0       0  2018  \n",
       "582  18685.088   882.0       1  2018  \n",
       "583  18764.293  1157.0       0  2018  \n",
       "584  18727.566  1132.0       1  2018  \n",
       "\n",
       "[5 rows x 102 columns]"
      ]
     },
     "execution_count": 16,
     "metadata": {},
     "output_type": "execute_result"
    }
   ],
   "source": [
    "import pandas as pd\n",
    "import numpy as np\n",
    "import seaborn as sns\n",
    "import missingno\n",
    "from sklearn.tree import DecisionTreeClassifier\n",
    "from sklearn.ensemble import RandomForestClassifier\n",
    "from sklearn.neural_network import MLPClassifier\n",
    "from sklearn.model_selection import GridSearchCV\n",
    "from sklearn import metrics\n",
    "from sklearn.model_selection import train_test_split\n",
    "import matplotlib.pyplot as plt\n",
    "%matplotlib inline\n",
    "from pprint import pprint\n",
    "from sklearn.metrics import confusion_matrix\n",
    "\n",
    "# Read the data\n",
    "data = pd.read_csv('data.csv')\n",
    "\n",
    "Date=pd.DatetimeIndex(data['Date'])\n",
    "pd.DataFrame(data)\n",
    "data.MoM=data.MoM.astype(np.float)\n",
    "data.SP500=data.SP500.astype(np.float)\n",
    "data['year']=Date.year\n",
    "pre_data=data.loc[data.year<2000]\n",
    "post_data=data.loc[data.year>=2000]\n",
    "post_data.fillna(post_data.median(), inplace=True)\n",
    "post_data.tail()"
   ]
  },
  {
   "cell_type": "code",
   "execution_count": 18,
   "metadata": {},
   "outputs": [
    {
     "data": {
      "text/plain": [
       "array([[99.1, 99.0, 98.9, ..., 1.0, 12995.555, 882.0],\n",
       "       [100.2, 99.8, 99.3, ..., -1.0, 12864.719, 986.0],\n",
       "       [101.1, 100.7, 100.2, ..., 0.4, 12916.873, 1230.0],\n",
       "       ...,\n",
       "       [102.4, 102.5, 102.5, ..., 0.2, 18685.088, 882.0],\n",
       "       [102.5, 102.5, 102.6, ..., 0.4, 18764.293, 1157.0],\n",
       "       [102.2, 102.2, 102.2, ..., -0.2, 18727.566000000003, 1132.0]],\n",
       "      dtype=object)"
      ]
     },
     "execution_count": 18,
     "metadata": {},
     "output_type": "execute_result"
    }
   ],
   "source": [
    "#feature_cols=post_data.columns.values\n",
    "array=post_data.values\n",
    "X=array[:,3:-2]\n",
    "y=array[:,-2].astype(float)\n",
    "#X=X.drop(['UNRPE','UTR'],axis=1)\n",
    "\n",
    "X_train, X_test, y_train, y_test = train_test_split(X,y, test_size=0.2, random_state=123)\n",
    "X_train, X_val, y_train, y_val = train_test_split(X_train, y_train, test_size=0.375, random_state=123)\n",
    "post_data.groupby('CRISIS').size()"
   ]
  },
  {
   "cell_type": "code",
   "execution_count": 19,
   "metadata": {},
   "outputs": [],
   "source": [
    "clf = MLPClassifier(hidden_layer_sizes=(97,), \n",
    "                    learning_rate_init=0.02,\n",
    "                    max_iter=300,\n",
    "                    random_state=1234,\n",
    "                    verbose=1)"
   ]
  },
  {
   "cell_type": "code",
   "execution_count": 20,
   "metadata": {},
   "outputs": [
    {
     "name": "stdout",
     "output_type": "stream",
     "text": [
      "Iteration 1, loss = 13.24500266\n",
      "Iteration 2, loss = 9.78093670\n",
      "Iteration 3, loss = 9.78093601\n",
      "Iteration 4, loss = 9.78093492\n",
      "Iteration 5, loss = 9.78093387\n",
      "Iteration 6, loss = 12.83746197\n",
      "Iteration 7, loss = 13.24499879\n",
      "Iteration 8, loss = 13.24499850\n",
      "Iteration 9, loss = 9.57716373\n",
      "Iteration 10, loss = 9.78093230\n",
      "Iteration 11, loss = 9.78093238\n",
      "Iteration 12, loss = 9.57716398\n",
      "Iteration 13, loss = 13.04123033\n",
      "Iteration 14, loss = 13.24499933\n",
      "Iteration 15, loss = 9.16962800\n",
      "Iteration 16, loss = 9.37339718\n",
      "Iteration 17, loss = 9.16962927\n",
      "Iteration 18, loss = 13.24500187\n",
      "Iteration 19, loss = 12.42992827\n",
      "Iteration 20, loss = 9.78093750\n",
      "Iteration 21, loss = 9.78093826\n",
      "Iteration 22, loss = 9.16963325\n",
      "Iteration 23, loss = 13.24500592\n",
      "Iteration 24, loss = 13.24500672\n",
      "Iteration 25, loss = 8.96586709\n",
      "Iteration 26, loss = 9.37340510\n",
      "Iteration 27, loss = 9.37340595\n",
      "Iteration 28, loss = 8.96586964\n",
      "Iteration 29, loss = 13.24501091\n",
      "Iteration 30, loss = 13.24501173\n",
      "Iteration 31, loss = 9.78094644\n",
      "Iteration 32, loss = 9.37341000\n",
      "Iteration 33, loss = 9.37341072\n",
      "Iteration 34, loss = 8.35456848\n",
      "Iteration 35, loss = 13.24501536\n",
      "Iteration 36, loss = 13.24501599\n",
      "Iteration 37, loss = 8.96587616\n",
      "Iteration 38, loss = 9.16964531\n",
      "Iteration 39, loss = 8.76210869\n",
      "Iteration 40, loss = 12.42994386\n",
      "Iteration 41, loss = 12.83748154\n",
      "Iteration 42, loss = 8.76211017\n",
      "Iteration 43, loss = 8.96587920\n",
      "Iteration 44, loss = 10.79979695\n",
      "Iteration 45, loss = 12.83748326\n",
      "Training loss did not improve more than tol=0.000100 for 10 consecutive epochs. Stopping.\n"
     ]
    },
    {
     "data": {
      "text/plain": [
       "MLPClassifier(activation='relu', alpha=0.0001, batch_size='auto', beta_1=0.9,\n",
       "       beta_2=0.999, early_stopping=False, epsilon=1e-08,\n",
       "       hidden_layer_sizes=(97,), learning_rate='constant',\n",
       "       learning_rate_init=0.02, max_iter=300, momentum=0.9,\n",
       "       n_iter_no_change=10, nesterovs_momentum=True, power_t=0.5,\n",
       "       random_state=1234, shuffle=True, solver='adam', tol=0.0001,\n",
       "       validation_fraction=0.1, verbose=1, warm_start=False)"
      ]
     },
     "execution_count": 20,
     "metadata": {},
     "output_type": "execute_result"
    }
   ],
   "source": [
    "clf.fit(X_train, y_train)"
   ]
  },
  {
   "cell_type": "code",
   "execution_count": 6,
   "metadata": {},
   "outputs": [],
   "source": [
    "y_train_hat=clf.predict(X_train)\n",
    "y_test_hat=clf.predict(X_test)"
   ]
  },
  {
   "cell_type": "code",
   "execution_count": 153,
   "metadata": {},
   "outputs": [
    {
     "name": "stdout",
     "output_type": "stream",
     "text": [
      "              precision    recall  f1-score   support\n",
      "\n",
      "           0       0.91      0.84      0.87        70\n",
      "           1       0.77      0.86      0.81        43\n",
      "\n",
      "   micro avg       0.85      0.85      0.85       113\n",
      "   macro avg       0.84      0.85      0.84       113\n",
      "weighted avg       0.86      0.85      0.85       113\n",
      "\n",
      "====================================================================================================\n",
      "              precision    recall  f1-score   support\n",
      "\n",
      "           0       0.78      0.80      0.79        35\n",
      "           1       0.30      0.27      0.29        11\n",
      "\n",
      "   micro avg       0.67      0.67      0.67        46\n",
      "   macro avg       0.54      0.54      0.54        46\n",
      "weighted avg       0.66      0.67      0.67        46\n",
      "\n",
      "====================================================================================================\n",
      "0.8495575221238938\n",
      "====================================================================================================\n",
      "0.6739130434782609\n"
     ]
    }
   ],
   "source": [
    "print(metrics.classification_report(y_train_hat, y_train))\n",
    "print(\"=\"*100)\n",
    "print(metrics.classification_report(y_test_hat, y_test))\n",
    "print(\"=\"*100)\n",
    "print(metrics.accuracy_score(y_train_hat, y_train))\n",
    "print(\"=\"*100)\n",
    "print(metrics.accuracy_score(y_test_hat, y_test))"
   ]
  },
  {
   "cell_type": "code",
   "execution_count": 212,
   "metadata": {},
   "outputs": [
    {
     "name": "stderr",
     "output_type": "stream",
     "text": [
      "C:\\Users\\david\\Anaconda3\\lib\\site-packages\\pandas\\core\\generic.py:5434: SettingWithCopyWarning: \n",
      "A value is trying to be set on a copy of a slice from a DataFrame\n",
      "\n",
      "See the caveats in the documentation: http://pandas.pydata.org/pandas-docs/stable/indexing.html#indexing-view-versus-copy\n",
      "  self._update_inplace(new_data)\n"
     ]
    }
   ],
   "source": [
    "from sklearn.model_selection import GridSearchCV\n",
    "\n",
    "\n",
    "data = pd.read_csv('data.csv')\n",
    "\n",
    "Date=pd.DatetimeIndex(data['Date'])\n",
    "pd.DataFrame(data)\n",
    "data.MoM=data.MoM.astype(np.float)\n",
    "data.SP500=data.SP500.astype(np.float)\n",
    "data['year']=Date.year\n",
    "pre_data=data.loc[data.year<2000]\n",
    "post_data=data.loc[data.year>=2000]\n",
    "post_data.fillna(post_data.median(), inplace=True)\n",
    "post_data.tail()\n",
    "\n",
    "#feature_cols=post_data.columns.values\n",
    "#array=post_data.values\n",
    "#X=array[:,3:-2]\n",
    "#y=array[:,-2].astype(float)\n",
    "feature_cols=post_data.columns.values\n",
    "X=post_data[feature_cols[3:-2]]\n",
    "#X=X_selector\n",
    "y=post_data.CRISIS\n",
    "#X=X.drop(['UNRPE','UTR'],axis=1)\n",
    "\n",
    "X_train, X_test, y_train, y_test = train_test_split(X,y, test_size=0.2, random_state=123)\n",
    "X_train, X_val, y_train, y_val = train_test_split(X_train, y_train, test_size=0.375, random_state=123)\n",
    "\n",
    "params_forest={\n",
    "    'n_estimators':[1,2,3,4,5,6,7,8,9,10,11],\n",
    "    'max_depth':[5,7,9,11,13,15,17,19],\n",
    "    'max_features':['auto','log2'],\n",
    "  #  'max_leaf_nodes':[5,7,9,11,13,15,17],\n",
    " #   'min_impurity_split':[1e-4]\n",
    "}\n",
    "\n",
    "params_MLPC={\n",
    "    'learning_rate_init':[0.0001, 0.001, 0.01,0.02],\n",
    "    'activation' : ['logistic','relu','tanh'],\n",
    "   'hidden_layer_sizes' : [(97,),(97,97)]\n",
    "}"
   ]
  },
  {
   "cell_type": "code",
   "execution_count": 216,
   "metadata": {},
   "outputs": [],
   "source": [
    "gridsearch=GridSearchCV(RandomForestClassifier(),\n",
    "                       param_grid=params_forest,\n",
    "                       verbose=1,\n",
    "                       cv=5,\n",
    "                       scoring='neg_mean_squared_error'\n",
    "                       )"
   ]
  },
  {
   "cell_type": "code",
   "execution_count": 217,
   "metadata": {},
   "outputs": [
    {
     "name": "stdout",
     "output_type": "stream",
     "text": [
      "Fitting 5 folds for each of 176 candidates, totalling 880 fits\n"
     ]
    },
    {
     "name": "stderr",
     "output_type": "stream",
     "text": [
      "[Parallel(n_jobs=1)]: Using backend SequentialBackend with 1 concurrent workers.\n",
      "[Parallel(n_jobs=1)]: Done 880 out of 880 | elapsed:    5.1s finished\n",
      "C:\\Users\\david\\Anaconda3\\lib\\site-packages\\sklearn\\model_selection\\_search.py:841: DeprecationWarning: The default of the `iid` parameter will change from True to False in version 0.22 and will be removed in 0.24. This will change numeric results when test-set sizes are unequal.\n",
      "  DeprecationWarning)\n"
     ]
    },
    {
     "data": {
      "text/plain": [
       "GridSearchCV(cv=5, error_score='raise-deprecating',\n",
       "       estimator=RandomForestClassifier(bootstrap=True, class_weight=None, criterion='gini',\n",
       "            max_depth=None, max_features='auto', max_leaf_nodes=None,\n",
       "            min_impurity_decrease=0.0, min_impurity_split=None,\n",
       "            min_samples_leaf=1, min_samples_split=2,\n",
       "            min_weight_fraction_leaf=0.0, n_estimators='warn', n_jobs=None,\n",
       "            oob_score=False, random_state=None, verbose=0,\n",
       "            warm_start=False),\n",
       "       fit_params=None, iid='warn', n_jobs=None,\n",
       "       param_grid={'n_estimators': [1, 2, 3, 4, 5, 6, 7, 8, 9, 10, 11], 'max_depth': [5, 7, 9, 11, 13, 15, 17, 19], 'max_features': ['auto', 'log2']},\n",
       "       pre_dispatch='2*n_jobs', refit=True, return_train_score='warn',\n",
       "       scoring='neg_mean_squared_error', verbose=1)"
      ]
     },
     "execution_count": 217,
     "metadata": {},
     "output_type": "execute_result"
    }
   ],
   "source": [
    "gridsearch.fit(X_train, y_train)"
   ]
  },
  {
   "cell_type": "code",
   "execution_count": 218,
   "metadata": {},
   "outputs": [
    {
     "name": "stdout",
     "output_type": "stream",
     "text": [
      "{'max_depth': 11, 'max_features': 'auto', 'n_estimators': 2}\n",
      "====================================================================================================\n",
      "-0.3893805309734513\n",
      "====================================================================================================\n",
      "RandomForestClassifier(bootstrap=True, class_weight=None, criterion='gini',\n",
      "            max_depth=11, max_features='auto', max_leaf_nodes=None,\n",
      "            min_impurity_decrease=0.0, min_impurity_split=None,\n",
      "            min_samples_leaf=1, min_samples_split=2,\n",
      "            min_weight_fraction_leaf=0.0, n_estimators=2, n_jobs=None,\n",
      "            oob_score=False, random_state=None, verbose=0,\n",
      "            warm_start=False)\n"
     ]
    }
   ],
   "source": [
    "#for mean_score, params in zip(\"mean_test_score\", result[\"params\"]):\n",
    "#    print(np.sqrt(-mean_score),params)\n",
    "print(gridsearch.best_params_)\n",
    "print(\"=\"*100)\n",
    "print(gridsearch.best_score_)\n",
    "print(\"=\"*100)\n",
    "print(gridsearch.best_estimator_)\n"
   ]
  },
  {
   "cell_type": "code",
   "execution_count": 219,
   "metadata": {},
   "outputs": [
    {
     "data": {
      "text/plain": [
       "RandomForestClassifier(bootstrap=True, class_weight=None, criterion='gini',\n",
       "            max_depth=11, max_features='auto', max_leaf_nodes=None,\n",
       "            min_impurity_decrease=0.0, min_impurity_split=None,\n",
       "            min_samples_leaf=1, min_samples_split=2,\n",
       "            min_weight_fraction_leaf=0.0, n_estimators=2, n_jobs=None,\n",
       "            oob_score=False, random_state=None, verbose=0,\n",
       "            warm_start=False)"
      ]
     },
     "execution_count": 219,
     "metadata": {},
     "output_type": "execute_result"
    }
   ],
   "source": [
    "#모델 저장\n",
    "import pickle\n",
    "from sklearn.externals import joblib\n",
    "\n",
    "#pickle 형태로 저장\n",
    "#saved_models=pickle.dumps(gridsearch)\n",
    "#gridsearch_saved=pickle.loads(saved_modles)\n",
    "filename='grisearch_001.pkl'\n",
    "joblib.dump(gridsearch.best_estimator_,filename)\n",
    "joblib.load(filename)"
   ]
  },
  {
   "cell_type": "code",
   "execution_count": 220,
   "metadata": {},
   "outputs": [
    {
     "data": {
      "text/plain": [
       "[(0.09101729788892297, 'CHINA16'),\n",
       " (0.05858655666648033, 'USA37'),\n",
       " (0.054523684712161645, 'CHINA20'),\n",
       " (0.054184141958603486, 'USA48'),\n",
       " (0.050046060090702955, 'USA10'),\n",
       " (0.04898785060206215, 'USA28'),\n",
       " (0.04843880891982773, 'CHINA30'),\n",
       " (0.04272540330384691, 'CHINA15'),\n",
       " (0.03580046027352818, 'CHINA11'),\n",
       " (0.03328998380741951, 'USA39'),\n",
       " (0.033169686429048405, 'USA18'),\n",
       " (0.032896213233355356, 'CHINA4'),\n",
       " (0.031390685044473364, 'CHINA24'),\n",
       " (0.03048959968602826, 'USA30'),\n",
       " (0.030234315948601702, 'Date'),\n",
       " (0.028683652576696736, 'USA20'),\n",
       " (0.028438493152964272, 'USA33'),\n",
       " (0.02808498533431373, 'USA41'),\n",
       " (0.027024872448979595, 'CHINA38'),\n",
       " (0.02266362672726653, 'USA42'),\n",
       " (0.020840600825402233, 'USA7'),\n",
       " (0.02067343864629185, 'USA1'),\n",
       " (0.018016581632653062, 'CHINA29'),\n",
       " (0.01693444851083432, 'USA38'),\n",
       " (0.0169220785703589, 'USA17'),\n",
       " (0.01601473922902494, 'MoM'),\n",
       " (0.015630656784726252, 'USA23'),\n",
       " (0.015393271736555312, 'CHINA13'),\n",
       " (0.014574246627791235, 'USA35'),\n",
       " (0.009166125892277742, 'CHINA45'),\n",
       " (0.009008290816326531, 'USA2'),\n",
       " (0.007721392128279888, 'CHINA8'),\n",
       " (0.006005527210884357, 'CHINA2'),\n",
       " (0.001494477047653984, 'USA6'),\n",
       " (0.0009277455356556333, 'CHINA26'),\n",
       " (0.0, 'USA9'),\n",
       " (0.0, 'USA8'),\n",
       " (0.0, 'USA5'),\n",
       " (0.0, 'USA47'),\n",
       " (0.0, 'USA46'),\n",
       " (0.0, 'USA45'),\n",
       " (0.0, 'USA44'),\n",
       " (0.0, 'USA43'),\n",
       " (0.0, 'USA40'),\n",
       " (0.0, 'USA4'),\n",
       " (0.0, 'USA36'),\n",
       " (0.0, 'USA34'),\n",
       " (0.0, 'USA32'),\n",
       " (0.0, 'USA31'),\n",
       " (0.0, 'USA3'),\n",
       " (0.0, 'USA29'),\n",
       " (0.0, 'USA27'),\n",
       " (0.0, 'USA26'),\n",
       " (0.0, 'USA25'),\n",
       " (0.0, 'USA24'),\n",
       " (0.0, 'USA22'),\n",
       " (0.0, 'USA21'),\n",
       " (0.0, 'USA19'),\n",
       " (0.0, 'USA16'),\n",
       " (0.0, 'USA15'),\n",
       " (0.0, 'USA14'),\n",
       " (0.0, 'USA13'),\n",
       " (0.0, 'USA12'),\n",
       " (0.0, 'USA11'),\n",
       " (0.0, 'SP500'),\n",
       " (0.0, 'CHINA9'),\n",
       " (0.0, 'CHINA7'),\n",
       " (0.0, 'CHINA6'),\n",
       " (0.0, 'CHINA5'),\n",
       " (0.0, 'CHINA46'),\n",
       " (0.0, 'CHINA44'),\n",
       " (0.0, 'CHINA43'),\n",
       " (0.0, 'CHINA42'),\n",
       " (0.0, 'CHINA41'),\n",
       " (0.0, 'CHINA40'),\n",
       " (0.0, 'CHINA39'),\n",
       " (0.0, 'CHINA37'),\n",
       " (0.0, 'CHINA36'),\n",
       " (0.0, 'CHINA35'),\n",
       " (0.0, 'CHINA34'),\n",
       " (0.0, 'CHINA33'),\n",
       " (0.0, 'CHINA32'),\n",
       " (0.0, 'CHINA31'),\n",
       " (0.0, 'CHINA3'),\n",
       " (0.0, 'CHINA28'),\n",
       " (0.0, 'CHINA27'),\n",
       " (0.0, 'CHINA25'),\n",
       " (0.0, 'CHINA23'),\n",
       " (0.0, 'CHINA22'),\n",
       " (0.0, 'CHINA21'),\n",
       " (0.0, 'CHINA19'),\n",
       " (0.0, 'CHINA18'),\n",
       " (0.0, 'CHINA17'),\n",
       " (0.0, 'CHINA14'),\n",
       " (0.0, 'CHINA12'),\n",
       " (0.0, 'CHINA10'),\n",
       " (0.0, 'CHINA1')]"
      ]
     },
     "execution_count": 220,
     "metadata": {},
     "output_type": "execute_result"
    }
   ],
   "source": [
    "columns=post_data.columns.values\n",
    "feature_importances=gridsearch.best_estimator_.feature_importances_\n",
    "sorted(zip(feature_importances,columns), reverse=True)"
   ]
  },
  {
   "cell_type": "code",
   "execution_count": 221,
   "metadata": {},
   "outputs": [
    {
     "data": {
      "text/plain": [
       "RandomForestClassifier(bootstrap=True, class_weight=None, criterion='gini',\n",
       "            max_depth=11, max_features='auto', max_leaf_nodes=None,\n",
       "            min_impurity_decrease=0.0, min_impurity_split=None,\n",
       "            min_samples_leaf=1, min_samples_split=2,\n",
       "            min_weight_fraction_leaf=0.0, n_estimators=2, n_jobs=None,\n",
       "            oob_score=False, random_state=None, verbose=0,\n",
       "            warm_start=False)"
      ]
     },
     "execution_count": 221,
     "metadata": {},
     "output_type": "execute_result"
    }
   ],
   "source": [
    "y_train_hat=gridsearch.best_estimator_.predict(X_train)\n",
    "y_test_hat=gridsearch.best_estimator_.predict(X_test)\n",
    "gridsearch.best_estimator_"
   ]
  },
  {
   "cell_type": "code",
   "execution_count": 222,
   "metadata": {},
   "outputs": [
    {
     "name": "stdout",
     "output_type": "stream",
     "text": [
      "              precision    recall  f1-score   support\n",
      "\n",
      "           0       0.95      0.84      0.89        74\n",
      "           1       0.75      0.92      0.83        39\n",
      "\n",
      "   micro avg       0.87      0.87      0.87       113\n",
      "   macro avg       0.85      0.88      0.86       113\n",
      "weighted avg       0.88      0.87      0.87       113\n",
      "\n",
      "0.8672566371681416\n",
      "----------------------------------------------------------------------------------------------------\n",
      "              precision    recall  f1-score   support\n",
      "\n",
      "           0       0.78      0.76      0.77        37\n",
      "           1       0.10      0.11      0.11         9\n",
      "\n",
      "   micro avg       0.63      0.63      0.63        46\n",
      "   macro avg       0.44      0.43      0.44        46\n",
      "weighted avg       0.65      0.63      0.64        46\n",
      "\n",
      "0.6304347826086957\n"
     ]
    }
   ],
   "source": [
    "print(metrics.classification_report(y_train_hat, y_train))\n",
    "print(metrics.accuracy_score(y_train_hat, y_train))\n",
    "print(\"-\"*100)\n",
    "print(metrics.classification_report(y_test_hat, y_test))\n",
    "print(metrics.accuracy_score(y_test_hat, y_test))"
   ]
  },
  {
   "cell_type": "code",
   "execution_count": 229,
   "metadata": {},
   "outputs": [
    {
     "data": {
      "text/plain": [
       "(<228x142 sparse matrix of type '<class 'numpy.int64'>'\n",
       " \twith 3613 stored elements in Compressed Sparse Row format>,\n",
       " array([  0,  65, 142], dtype=int32))"
      ]
     },
     "execution_count": 229,
     "metadata": {},
     "output_type": "execute_result"
    }
   ],
   "source": [
    "dt=gridsearch.best_estimator_\n",
    "dt.fit(X, y)\n",
    "dt.decision_path(X)"
   ]
  },
  {
   "cell_type": "code",
   "execution_count": 235,
   "metadata": {},
   "outputs": [
    {
     "ename": "FileNotFoundError",
     "evalue": "[WinError 2] \"dot\" not found in path.",
     "output_type": "error",
     "traceback": [
      "\u001b[1;31m---------------------------------------------------------------------------\u001b[0m",
      "\u001b[1;31mFileNotFoundError\u001b[0m                         Traceback (most recent call last)",
      "\u001b[1;32m~\\Anaconda3\\lib\\site-packages\\pydot.py\u001b[0m in \u001b[0;36mcreate\u001b[1;34m(self, prog, format, encoding)\u001b[0m\n\u001b[0;32m   1914\u001b[0m                 \u001b[0marguments\u001b[0m\u001b[1;33m=\u001b[0m\u001b[0marguments\u001b[0m\u001b[1;33m,\u001b[0m\u001b[1;33m\u001b[0m\u001b[1;33m\u001b[0m\u001b[0m\n\u001b[1;32m-> 1915\u001b[1;33m                 \u001b[0mworking_dir\u001b[0m\u001b[1;33m=\u001b[0m\u001b[0mtmp_dir\u001b[0m\u001b[1;33m,\u001b[0m\u001b[1;33m\u001b[0m\u001b[1;33m\u001b[0m\u001b[0m\n\u001b[0m\u001b[0;32m   1916\u001b[0m             )\n",
      "\u001b[1;32m~\\Anaconda3\\lib\\site-packages\\pydot.py\u001b[0m in \u001b[0;36mcall_graphviz\u001b[1;34m(program, arguments, working_dir, **kwargs)\u001b[0m\n\u001b[0;32m    135\u001b[0m         \u001b[0mstdout\u001b[0m\u001b[1;33m=\u001b[0m\u001b[0msubprocess\u001b[0m\u001b[1;33m.\u001b[0m\u001b[0mPIPE\u001b[0m\u001b[1;33m,\u001b[0m\u001b[1;33m\u001b[0m\u001b[1;33m\u001b[0m\u001b[0m\n\u001b[1;32m--> 136\u001b[1;33m         \u001b[1;33m**\u001b[0m\u001b[0mkwargs\u001b[0m\u001b[1;33m\u001b[0m\u001b[1;33m\u001b[0m\u001b[0m\n\u001b[0m\u001b[0;32m    137\u001b[0m     )\n",
      "\u001b[1;32m~\\Anaconda3\\lib\\subprocess.py\u001b[0m in \u001b[0;36m__init__\u001b[1;34m(self, args, bufsize, executable, stdin, stdout, stderr, preexec_fn, close_fds, shell, cwd, env, universal_newlines, startupinfo, creationflags, restore_signals, start_new_session, pass_fds, encoding, errors, text)\u001b[0m\n\u001b[0;32m    768\u001b[0m                                 \u001b[0merrread\u001b[0m\u001b[1;33m,\u001b[0m \u001b[0merrwrite\u001b[0m\u001b[1;33m,\u001b[0m\u001b[1;33m\u001b[0m\u001b[1;33m\u001b[0m\u001b[0m\n\u001b[1;32m--> 769\u001b[1;33m                                 restore_signals, start_new_session)\n\u001b[0m\u001b[0;32m    770\u001b[0m         \u001b[1;32mexcept\u001b[0m\u001b[1;33m:\u001b[0m\u001b[1;33m\u001b[0m\u001b[1;33m\u001b[0m\u001b[0m\n",
      "\u001b[1;32m~\\Anaconda3\\lib\\subprocess.py\u001b[0m in \u001b[0;36m_execute_child\u001b[1;34m(self, args, executable, preexec_fn, close_fds, pass_fds, cwd, env, startupinfo, creationflags, shell, p2cread, p2cwrite, c2pread, c2pwrite, errread, errwrite, unused_restore_signals, unused_start_new_session)\u001b[0m\n\u001b[0;32m   1171\u001b[0m                                          \u001b[0mos\u001b[0m\u001b[1;33m.\u001b[0m\u001b[0mfspath\u001b[0m\u001b[1;33m(\u001b[0m\u001b[0mcwd\u001b[0m\u001b[1;33m)\u001b[0m \u001b[1;32mif\u001b[0m \u001b[0mcwd\u001b[0m \u001b[1;32mis\u001b[0m \u001b[1;32mnot\u001b[0m \u001b[1;32mNone\u001b[0m \u001b[1;32melse\u001b[0m \u001b[1;32mNone\u001b[0m\u001b[1;33m,\u001b[0m\u001b[1;33m\u001b[0m\u001b[1;33m\u001b[0m\u001b[0m\n\u001b[1;32m-> 1172\u001b[1;33m                                          startupinfo)\n\u001b[0m\u001b[0;32m   1173\u001b[0m             \u001b[1;32mfinally\u001b[0m\u001b[1;33m:\u001b[0m\u001b[1;33m\u001b[0m\u001b[1;33m\u001b[0m\u001b[0m\n",
      "\u001b[1;31mFileNotFoundError\u001b[0m: [WinError 2] 지정된 파일을 찾을 수 없습니다",
      "\nDuring handling of the above exception, another exception occurred:\n",
      "\u001b[1;31mFileNotFoundError\u001b[0m                         Traceback (most recent call last)",
      "\u001b[1;32m<ipython-input-235-e45f592533ef>\u001b[0m in \u001b[0;36m<module>\u001b[1;34m\u001b[0m\n\u001b[0;32m     25\u001b[0m     \u001b[1;33m(\u001b[0m\u001b[0mgraph\u001b[0m\u001b[1;33m,\u001b[0m\u001b[1;33m)\u001b[0m \u001b[1;33m=\u001b[0m \u001b[0mpydot\u001b[0m\u001b[1;33m.\u001b[0m\u001b[0mgraph_from_dot_file\u001b[0m\u001b[1;33m(\u001b[0m\u001b[1;34m'tree.dot'\u001b[0m\u001b[1;33m)\u001b[0m\u001b[1;33m\u001b[0m\u001b[1;33m\u001b[0m\u001b[0m\n\u001b[0;32m     26\u001b[0m     \u001b[0mname\u001b[0m \u001b[1;33m=\u001b[0m \u001b[1;34m'tree'\u001b[0m \u001b[1;33m+\u001b[0m \u001b[0mstr\u001b[0m\u001b[1;33m(\u001b[0m\u001b[0mi_tree\u001b[0m\u001b[1;33m)\u001b[0m\u001b[1;33m\u001b[0m\u001b[1;33m\u001b[0m\u001b[0m\n\u001b[1;32m---> 27\u001b[1;33m     \u001b[0mgraph\u001b[0m\u001b[1;33m.\u001b[0m\u001b[0mwrite_png\u001b[0m\u001b[1;33m(\u001b[0m\u001b[0mname\u001b[0m\u001b[1;33m+\u001b[0m  \u001b[1;34m'.png'\u001b[0m\u001b[1;33m)\u001b[0m\u001b[1;33m\u001b[0m\u001b[1;33m\u001b[0m\u001b[0m\n\u001b[0m\u001b[0;32m     28\u001b[0m     \u001b[0mos\u001b[0m\u001b[1;33m.\u001b[0m\u001b[0msystem\u001b[0m\u001b[1;33m(\u001b[0m\u001b[1;34m'dot -Tpng tree.dot -o tree.png'\u001b[0m\u001b[1;33m)\u001b[0m\u001b[1;33m\u001b[0m\u001b[1;33m\u001b[0m\u001b[0m\n\u001b[0;32m     29\u001b[0m     \u001b[0mi_tree\u001b[0m \u001b[1;33m+=\u001b[0m\u001b[1;36m1\u001b[0m\u001b[1;33m\u001b[0m\u001b[1;33m\u001b[0m\u001b[0m\n",
      "\u001b[1;32m~\\Anaconda3\\lib\\site-packages\\pydot.py\u001b[0m in \u001b[0;36mnew_method\u001b[1;34m(path, f, prog, encoding)\u001b[0m\n\u001b[0;32m   1732\u001b[0m                 self.write(\n\u001b[0;32m   1733\u001b[0m                     \u001b[0mpath\u001b[0m\u001b[1;33m,\u001b[0m \u001b[0mformat\u001b[0m\u001b[1;33m=\u001b[0m\u001b[0mf\u001b[0m\u001b[1;33m,\u001b[0m \u001b[0mprog\u001b[0m\u001b[1;33m=\u001b[0m\u001b[0mprog\u001b[0m\u001b[1;33m,\u001b[0m\u001b[1;33m\u001b[0m\u001b[1;33m\u001b[0m\u001b[0m\n\u001b[1;32m-> 1734\u001b[1;33m                     encoding=encoding)\n\u001b[0m\u001b[0;32m   1735\u001b[0m             \u001b[0mname\u001b[0m \u001b[1;33m=\u001b[0m \u001b[1;34m'write_{fmt}'\u001b[0m\u001b[1;33m.\u001b[0m\u001b[0mformat\u001b[0m\u001b[1;33m(\u001b[0m\u001b[0mfmt\u001b[0m\u001b[1;33m=\u001b[0m\u001b[0mfrmt\u001b[0m\u001b[1;33m)\u001b[0m\u001b[1;33m\u001b[0m\u001b[1;33m\u001b[0m\u001b[0m\n\u001b[0;32m   1736\u001b[0m             \u001b[0mself\u001b[0m\u001b[1;33m.\u001b[0m\u001b[0m__setattr__\u001b[0m\u001b[1;33m(\u001b[0m\u001b[0mname\u001b[0m\u001b[1;33m,\u001b[0m \u001b[0mnew_method\u001b[0m\u001b[1;33m)\u001b[0m\u001b[1;33m\u001b[0m\u001b[1;33m\u001b[0m\u001b[0m\n",
      "\u001b[1;32m~\\Anaconda3\\lib\\site-packages\\pydot.py\u001b[0m in \u001b[0;36mwrite\u001b[1;34m(self, path, prog, format, encoding)\u001b[0m\n\u001b[0;32m   1815\u001b[0m                 \u001b[0mf\u001b[0m\u001b[1;33m.\u001b[0m\u001b[0mwrite\u001b[0m\u001b[1;33m(\u001b[0m\u001b[0ms\u001b[0m\u001b[1;33m)\u001b[0m\u001b[1;33m\u001b[0m\u001b[1;33m\u001b[0m\u001b[0m\n\u001b[0;32m   1816\u001b[0m         \u001b[1;32melse\u001b[0m\u001b[1;33m:\u001b[0m\u001b[1;33m\u001b[0m\u001b[1;33m\u001b[0m\u001b[0m\n\u001b[1;32m-> 1817\u001b[1;33m             \u001b[0ms\u001b[0m \u001b[1;33m=\u001b[0m \u001b[0mself\u001b[0m\u001b[1;33m.\u001b[0m\u001b[0mcreate\u001b[0m\u001b[1;33m(\u001b[0m\u001b[0mprog\u001b[0m\u001b[1;33m,\u001b[0m \u001b[0mformat\u001b[0m\u001b[1;33m,\u001b[0m \u001b[0mencoding\u001b[0m\u001b[1;33m=\u001b[0m\u001b[0mencoding\u001b[0m\u001b[1;33m)\u001b[0m\u001b[1;33m\u001b[0m\u001b[1;33m\u001b[0m\u001b[0m\n\u001b[0m\u001b[0;32m   1818\u001b[0m             \u001b[1;32mwith\u001b[0m \u001b[0mio\u001b[0m\u001b[1;33m.\u001b[0m\u001b[0mopen\u001b[0m\u001b[1;33m(\u001b[0m\u001b[0mpath\u001b[0m\u001b[1;33m,\u001b[0m \u001b[0mmode\u001b[0m\u001b[1;33m=\u001b[0m\u001b[1;34m'wb'\u001b[0m\u001b[1;33m)\u001b[0m \u001b[1;32mas\u001b[0m \u001b[0mf\u001b[0m\u001b[1;33m:\u001b[0m\u001b[1;33m\u001b[0m\u001b[1;33m\u001b[0m\u001b[0m\n\u001b[0;32m   1819\u001b[0m                 \u001b[0mf\u001b[0m\u001b[1;33m.\u001b[0m\u001b[0mwrite\u001b[0m\u001b[1;33m(\u001b[0m\u001b[0ms\u001b[0m\u001b[1;33m)\u001b[0m\u001b[1;33m\u001b[0m\u001b[1;33m\u001b[0m\u001b[0m\n",
      "\u001b[1;32m~\\Anaconda3\\lib\\site-packages\\pydot.py\u001b[0m in \u001b[0;36mcreate\u001b[1;34m(self, prog, format, encoding)\u001b[0m\n\u001b[0;32m   1920\u001b[0m                 args[1] = '\"{prog}\" not found in path.'.format(\n\u001b[0;32m   1921\u001b[0m                     prog=prog)\n\u001b[1;32m-> 1922\u001b[1;33m                 \u001b[1;32mraise\u001b[0m \u001b[0mOSError\u001b[0m\u001b[1;33m(\u001b[0m\u001b[1;33m*\u001b[0m\u001b[0margs\u001b[0m\u001b[1;33m)\u001b[0m\u001b[1;33m\u001b[0m\u001b[1;33m\u001b[0m\u001b[0m\n\u001b[0m\u001b[0;32m   1923\u001b[0m             \u001b[1;32melse\u001b[0m\u001b[1;33m:\u001b[0m\u001b[1;33m\u001b[0m\u001b[1;33m\u001b[0m\u001b[0m\n\u001b[0;32m   1924\u001b[0m                 \u001b[1;32mraise\u001b[0m\u001b[1;33m\u001b[0m\u001b[1;33m\u001b[0m\u001b[0m\n",
      "\u001b[1;31mFileNotFoundError\u001b[0m: [WinError 2] \"dot\" not found in path."
     ]
    }
   ],
   "source": [
    "# from sklearn.tree import export_graphviz\n",
    "\n",
    "# with open(\"post_data_forest.dot\", \"w\") as f:\n",
    "#     f = export_graphviz(dt, \n",
    "#                         out_file = f, \n",
    "#                         feature_names = X.columns,\n",
    "#                         class_names = [\">0\", \"<0\"], # 클래스가 [0,1]이므로 이 순서를 맞춰서 이름을 할당\n",
    "#                         filled = True,\n",
    "#                         rounded = True)\n",
    "\n",
    "import os\n",
    "from sklearn.tree import export_graphviz\n",
    "import six\n",
    "import pydot\n",
    "from sklearn import tree\n",
    "\n",
    "dotfile=six.StringIO()\n",
    "i_tree = 0\n",
    "for tree_in_forest in dt.estimators_:\n",
    "    export_graphviz(tree_in_forest,out_file='tree.dot',\n",
    "    feature_names=X.columns,\n",
    "    class_names=[\"UP\",\"DOWN\"],            \n",
    "    filled=True,\n",
    "    rounded=True)\n",
    "    (graph,) = pydot.graph_from_dot_file('tree.dot')\n",
    "    name = 'tree' + str(i_tree)\n",
    "    graph.write_png(name+  '.png')\n",
    "    os.system('dot -Tpng tree.dot -o tree.png')\n",
    "    i_tree +=1"
   ]
  },
  {
   "cell_type": "code",
   "execution_count": 128,
   "metadata": {},
   "outputs": [
    {
     "data": {
      "image/png": "[encoded data removed]",
      "text/plain": [
       "<Figure size 1440x720 with 1 Axes>"
      ]
     },
     "metadata": {
      "needs_background": "light"
     },
     "output_type": "display_data"
    },
    {
     "data": {
      "text/plain": [
       "<Figure size 1440x1440 with 0 Axes>"
      ]
     },
     "metadata": {},
     "output_type": "display_data"
    }
   ],
   "source": [
    "X_grid_selector=['고고','USA20','ㅎㅎ','CHINA2','CHINA9',\n",
    "                 'Export Prices',\n",
    "                 '[USA]Industrial production(Energy sector)',\n",
    "                 '[USA]Number of building permits','[USA]Number of loans']\n",
    "\n",
    "feature_engineer=sorted(feature_importances,reverse=True)\n",
    "feature_engineer=pd.DataFrame(feature_engineer)\n",
    "feature_engineer=feature_engineer.iloc[[9,8,7,6,5,4,3,1,0]]\n",
    "feature_engineer=list(feature_engineer[0]*100)                    \n",
    "#Graph\n",
    "fig, ax=plt.subplots()\n",
    "width=0.4\n",
    "plt.rc({'font.size':24})\n",
    "index=np.arange(len(feature_engineer))\n",
    "ax.barh(index, feature_engineer, color=\"green\")\n",
    "ax.set_yticks(index+width/10)\n",
    "ax.set_yticklabels(X_grid_selector, minor=False)\n",
    "\n",
    "\n",
    "plt.rc({'font.size':40})\n",
    "plt.title('Nine Economic Index Relative Importances among 96 economic indexs')\n",
    "plt.xlabel('Relative Importances for S&P500(%)')\n",
    "plt.ylabel('Economic Index')\n",
    "plt.figure(figsize=(20,20))\n",
    "fig.set_size_inches(20,10)"
   ]
  },
  {
   "cell_type": "code",
   "execution_count": null,
   "metadata": {},
   "outputs": [],
   "source": []
  }
 ],
 "metadata": {
  "kernelspec": {
   "display_name": "Python 3",
   "language": "python",
   "name": "python3"
  },
  "language_info": {
   "codemirror_mode": {
    "name": "ipython",
    "version": 3
   },
   "file_extension": ".py",
   "mimetype": "text/x-python",
   "name": "python",
   "nbconvert_exporter": "python",
   "pygments_lexer": "ipython3",
   "version": "3.7.1"
  }
 },
 "nbformat": 4,
 "nbformat_minor": 2
}
